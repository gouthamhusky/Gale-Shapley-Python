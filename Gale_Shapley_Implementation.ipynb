{
  "nbformat": 4,
  "nbformat_minor": 0,
  "metadata": {
    "colab": {
      "provenance": [],
      "authorship_tag": "ABX9TyNXwFvzna5+R8F8I/qYsA/f",
      "include_colab_link": true
    },
    "kernelspec": {
      "name": "python3",
      "display_name": "Python 3"
    },
    "language_info": {
      "name": "python"
    }
  },
  "cells": [
    {
      "cell_type": "markdown",
      "metadata": {
        "id": "view-in-github",
        "colab_type": "text"
      },
      "source": [
        "<a href=\"https://colab.research.google.com/github/gouthamhusky/Gale-Shapley-Python/blob/main/Gale_Shapley_Implementation.ipynb\" target=\"_parent\"><img src=\"https://colab.research.google.com/assets/colab-badge.svg\" alt=\"Open In Colab\"/></a>"
      ]
    },
    {
      "cell_type": "code",
      "source": [
        "import random\n",
        "from collections import deque \n",
        "import datetime\n",
        "\n",
        "s = ['E2', 'F2', 'D3', 'F3', 'E1', 'F1', 'D1', 'D2']\n",
        "random.shuffle(s)\n",
        "print(s)"
      ],
      "metadata": {
        "colab": {
          "base_uri": "https://localhost:8080/"
        },
        "id": "fxsWRZBocF4r",
        "outputId": "a2ab4a0a-ca43-4a1a-d8fd-7e3faebc760b"
      },
      "execution_count": 320,
      "outputs": [
        {
          "output_type": "stream",
          "name": "stdout",
          "text": [
            "['D2', 'E1', 'E2', 'F3', 'F2', 'F1', 'D3', 'D1']\n"
          ]
        }
      ]
    },
    {
      "cell_type": "code",
      "source": [
        "setA = {\"A1\", \"A2\", \"A3\", \"B1\", \"B2\", \"C1\", \"C2\", \"C3\"}\n",
        "listA = [\"A1\", \"A2\", \"A3\", \"B1\", \"B2\", \"C1\", \"C2\", \"C3\"]\n",
        "setB = {\"D1\", \"D2\", \"D3\", \"E1\", \"E2\", \"F1\", \"F2\", \"F3\"}\n",
        "listB = [\"D1\", \"D2\", \"D3\", \"E1\", \"E2\", \"F1\", \"F2\", \"F3\"]"
      ],
      "metadata": {
        "id": "_iigFuSrBAav"
      },
      "execution_count": 321,
      "outputs": []
    },
    {
      "cell_type": "code",
      "source": [
        "# create a ranking of the form \n",
        "# {TeamA': {'TeamB': 0, 'TeamB': 1, 'TeamC': 2}\n",
        "\n",
        "def pref_to_rank(pref):\n",
        "    return {\n",
        "        a: {b: idx for idx, b in enumerate(a_pref)}\n",
        "        for a, a_pref in pref.items()\n",
        "    }\n",
        "\n",
        "def gale_shapley(*, A, B, A_pref, B_pref):\n",
        "    \"\"\"Create a stable matching using the\n",
        "    Gale-Shapley algorithm.\n",
        "    \n",
        "    A -- set[str].\n",
        "    B -- set[str].\n",
        "    A_pref -- dict[str, list[str]].\n",
        "    B_pref -- dict[str, list[str]].\n",
        "\n",
        "    Output: list of (a, b) pairs.\n",
        "    \"\"\"\n",
        "\n",
        "    \n",
        "    B_rank = pref_to_rank(B_pref)\n",
        "    # Convert A's preference list to a form:\n",
        "    # {'TeamA1': deque(['TeamE2', 'TeamF2', 'TeamD3', 'TeamF3', 'TeamE1', 'TeamF1', 'TeamD1', 'TeamD2'])\n",
        "    # deque makes it easier to access most preferred due to FIFO\n",
        "    ask_list = {a: deque(bs) for a, bs in A_pref.items()}\n",
        "    pair = {}\n",
        "    # remaining A's that have not yet proposed\n",
        "    remaining_A = set(A)\n",
        "    while len(remaining_A) > 0:\n",
        "        # pop out an element from set A\n",
        "        a = remaining_A.pop()\n",
        "        # pop out the element's most preferred from its preferences\n",
        "        b = ask_list[a].popleft()\n",
        "        # if b is unengaged, pair them up\n",
        "        if b not in pair:\n",
        "            pair[b] = a\n",
        "        \n",
        "        else:\n",
        "            # get the current partner of b\n",
        "            a0 = pair[b]\n",
        "            b_prefer_a0 = B_rank[b][a0] < B_rank[b][a]\n",
        "            # if b prefers its current partner to a, then add a back to the remaining set\n",
        "            if b_prefer_a0:\n",
        "                remaining_A.add(a)\n",
        "            else:\n",
        "            # if b prefers a over its current partner, add a0 to remaining and pair (a, b)\n",
        "                remaining_A.add(a0)\n",
        "                pair[b] = a\n",
        "    \n",
        "    return [(a, b) for b, a in pair.items()]"
      ],
      "metadata": {
        "id": "j5fJpIZNsYSg"
      },
      "execution_count": 322,
      "outputs": []
    },
    {
      "cell_type": "code",
      "source": [
        "print(random.sample(listA, len(listA)))"
      ],
      "metadata": {
        "colab": {
          "base_uri": "https://localhost:8080/"
        },
        "id": "mWPr05HWr2VA",
        "outputId": "8b8ff541-db72-4a51-ddf6-a5fca3473f28"
      },
      "execution_count": 323,
      "outputs": [
        {
          "output_type": "stream",
          "name": "stdout",
          "text": [
            "['B1', 'C1', 'A3', 'C2', 'C3', 'A2', 'B2', 'A1']\n"
          ]
        }
      ]
    },
    {
      "cell_type": "code",
      "source": [
        "matching = gale_shapley(\n",
        "      A = setA, \n",
        "      B = setB, \n",
        "      A_pref={\n",
        "        \"A1\": ['E2', 'F2', 'D3', 'F3', 'E1', 'F1', 'D1', 'D2'],\n",
        "        \"A2\": ['F2', 'D2', 'D1', 'E2', 'E1', 'D3', 'F1', 'F3'],\n",
        "        \"A3\": ['F1', 'D2', 'D1', 'F3', 'D3', 'E1', 'E2', 'F2'],\n",
        "        \"B1\": ['E2', 'D3', 'D2', 'F3', 'F1', 'E1', 'D1', 'F2'],\n",
        "        \"B2\": ['F2', 'E1', 'D1', 'D3', 'F3', 'D2', 'F1', 'E2'],\n",
        "        \"C1\": ['D2', 'D3', 'D1', 'E1', 'F1', 'F3', 'E2', 'F2'],\n",
        "        \"C1\": ['D2', 'D1', 'F2', 'F1', 'D3', 'E2', 'E1', 'F3'],\n",
        "        \"C2\": ['D3', 'F1', 'E2', 'F2', 'D1', 'E1', 'F3', 'D2'],\n",
        "        \"C3\": ['F2', 'D3', 'D2', 'E2', 'E1', 'F3', 'F1', 'D1'],\n",
        "    },\n",
        "    B_pref={\n",
        "        \"D1\": ['A3', 'C1', 'C3', 'A2', 'C2', 'B2', 'A1', 'B1'],\n",
        "        \"D2\": ['C1', 'A3', 'C2', 'C3', 'B1', 'A1', 'B2', 'A2'],\n",
        "        \"D3\": ['C2', 'A1', 'C1', 'A2', 'B1', 'A3', 'C3', 'B2'],\n",
        "        \"E1\": ['A1', 'C2', 'A3', 'A2', 'B1', 'C1', 'B2', 'C3'],\n",
        "        \"E2\": ['C2', 'B1', 'C1', 'A3', 'A1', 'B2', 'C3', 'A2'],\n",
        "        \"F1\": ['A2', 'C1', 'B2', 'A1', 'B1', 'C3', 'C2', 'A3'],\n",
        "        \"F2\": ['A2', 'C3', 'A1', 'A3', 'C2', 'C1', 'B1', 'B2'],\n",
        "        \"F3\": ['A2', 'C2', 'B2', 'A1', 'A3', 'C1', 'B1', 'C3'],\n",
        "    },\n",
        ")\n",
        "\n",
        "print(matching)"
      ],
      "metadata": {
        "colab": {
          "base_uri": "https://localhost:8080/"
        },
        "id": "379EEJ0crTtI",
        "outputId": "45d45e74-3470-44b8-9537-36a186928c83"
      },
      "execution_count": 324,
      "outputs": [
        {
          "output_type": "stream",
          "name": "stdout",
          "text": [
            "[('C1', 'D2'), ('C3', 'F1'), ('B1', 'E2'), ('A2', 'F2'), ('C2', 'D3'), ('B2', 'E1'), ('A1', 'F3'), ('A3', 'D1')]\n"
          ]
        }
      ]
    },
    {
      "cell_type": "code",
      "source": [
        "def gale_shapley_bool(*, A, B, A_pref, B_pref):\n",
        "    \"\"\"Create a stable matching using the\n",
        "    Gale-Shapley algorithm.\n",
        "    \n",
        "    A -- set[str].\n",
        "    B -- set[str].\n",
        "    A_pref -- dict[str, list[str]].\n",
        "    B_pref -- dict[str, list[str]].\n",
        "\n",
        "    Output: list of (a, b) pairs.\n",
        "    \"\"\"\n",
        "\n",
        "    \n",
        "    B_rank = pref_to_rank(B_pref)\n",
        "    # Convert A's preference list to a form:\n",
        "    # {'TeamA1': deque(['TeamE2', 'TeamF2', 'TeamD3', 'TeamF3', 'TeamE1', 'TeamF1', 'TeamD1', 'TeamD2'])\n",
        "    # deque makes it easier to access most preferred due to FIFO\n",
        "    ask_list = {a: deque(bs) for a, bs in A_pref.items()}\n",
        "    pair = {}\n",
        "    # remaining A's that have not yet proposed\n",
        "    remaining_A = set(A)\n",
        "    while len(remaining_A) > 0:\n",
        "        # pop out an element from set A\n",
        "        a = remaining_A.pop()\n",
        "        # pop out the element's most preferred from its preferences\n",
        "        b = ask_list[a].popleft()\n",
        "        # if b is unengaged, pair them up\n",
        "        if b not in pair:\n",
        "            pair[b] = a\n",
        "        \n",
        "        else:\n",
        "            # get the current partner of b\n",
        "            a0 = pair[b]\n",
        "            b_prefer_a0 = B_rank[b][a0] < B_rank[b][a]\n",
        "            # if b prefers its current partner to a, then add a back to the remaining set\n",
        "            if b_prefer_a0:\n",
        "                remaining_A.add(a)\n",
        "            else:\n",
        "            # if b prefers a over its current partner, add a0 to remaining and pair (a, b)\n",
        "                remaining_A.add(a0)\n",
        "                pair[b] = a\n",
        "    return len(pair) == 8"
      ],
      "metadata": {
        "id": "qwPiPUmPFvGs"
      },
      "execution_count": 325,
      "outputs": []
    },
    {
      "cell_type": "code",
      "source": [
        "from collections import deque\n",
        "from tqdm import tqdm\n",
        "\n",
        "\n",
        "stableMatches = 0\n",
        "for i in range(1000):\n",
        "  matching = gale_shapley_bool(\n",
        "      A = setA, \n",
        "      B = setB, \n",
        "      A_pref={\n",
        "        \"A1\": random.sample(listB, len(listB)),\n",
        "        \"A2\": random.sample(listB, len(listB)),\n",
        "        \"A3\": random.sample(listB, len(listB)),\n",
        "        \"B1\": random.sample(listB, len(listB)),\n",
        "        \"B2\": random.sample(listB, len(listB)),\n",
        "        \"C1\": random.sample(listB, len(listB)),\n",
        "        \"C2\": random.sample(listB, len(listB)),\n",
        "        \"C3\": random.sample(listB, len(listB)),\n",
        "    },\n",
        "    B_pref={\n",
        "        \"D1\": random.sample(listA, len(listA)),\n",
        "        \"D2\": random.sample(listA, len(listA)),\n",
        "        \"D3\": random.sample(listA, len(listA)),\n",
        "        \"E1\": random.sample(listA, len(listA)),\n",
        "        \"E2\": random.sample(listA, len(listA)),\n",
        "        \"F1\": random.sample(listA, len(listA)),\n",
        "        \"F2\": random.sample(listA, len(listA)),\n",
        "        \"F3\": random.sample(listA, len(listA)),\n",
        "    },\n",
        "      )\n",
        "  if matching == True:\n",
        "    stableMatches +=1\n",
        "  \n",
        "print(\"% of stable matches: \", stableMatches/1000 * 100)\n"
      ],
      "metadata": {
        "id": "KCPQDU2zsf7g",
        "colab": {
          "base_uri": "https://localhost:8080/"
        },
        "outputId": "0fa41f99-bfd0-40fc-bff5-9dbda8dc460b"
      },
      "execution_count": 326,
      "outputs": [
        {
          "output_type": "stream",
          "name": "stdout",
          "text": [
            "% of stable matches:  100.0\n"
          ]
        }
      ]
    },
    {
      "cell_type": "code",
      "source": [
        "# Assume that 8 teams lost \n",
        "\n",
        "AStage2Set = {\"A1\", \"A3\", \"B1\", \"C3\"}\n",
        "BStage2Set = {\"D1\", \"D2\", \"F1\", \"F2\"}\n",
        "\n",
        "AStage2List = [\"A1\", \"A3\", \"B1\", \"C3\"]\n",
        "BStage2List = [\"D1\", \"D2\", \"F1\", \"F2\"]\n",
        "\n",
        "\n",
        "gale_shapley(\n",
        "    A = AStage2Set,\n",
        "    B = BStage2Set,\n",
        "    A_pref={\n",
        "        \"A1\": random.sample(BStage2List, len(BStage2List)),\n",
        "        \"A3\": random.sample(BStage2List, len(BStage2List)),\n",
        "        \"B1\": random.sample(BStage2List, len(BStage2List)),\n",
        "        \"C3\": random.sample(BStage2List, len(BStage2List)),\n",
        "    },\n",
        "    B_pref={\n",
        "        \"D1\": random.sample(AStage2List, len(AStage2List)),\n",
        "        \"D2\": random.sample(AStage2List, len(AStage2List)),\n",
        "        \"F1\": random.sample(AStage2List, len(AStage2List)),\n",
        "        \"F2\": random.sample(AStage2List, len(AStage2List)),\n",
        "    },\n",
        ")"
      ],
      "metadata": {
        "colab": {
          "base_uri": "https://localhost:8080/"
        },
        "id": "9RM-v5gXuvTH",
        "outputId": "e39b8926-b57a-41d3-a636-a329ec8a5992"
      },
      "execution_count": 327,
      "outputs": [
        {
          "output_type": "execute_result",
          "data": {
            "text/plain": [
              "[('C3', 'D2'), ('A3', 'F1'), ('A1', 'D1'), ('B1', 'F2')]"
            ]
          },
          "metadata": {},
          "execution_count": 327
        }
      ]
    },
    {
      "cell_type": "code",
      "source": [
        "# Assume that 4 teams lost \n",
        "\n",
        "AStage3Set = {\"A1\", \"A3\"}\n",
        "BStage3Set = {\"D1\", \"F2\"}\n",
        "\n",
        "AStage3List = [\"A1\", \"A3\"]\n",
        "BStage3List = [\"D1\", \"F2\"]\n",
        "\n",
        "\n",
        "gale_shapley(\n",
        "    A = AStage3Set,\n",
        "    B = BStage3Set,\n",
        "    A_pref={\n",
        "        \"A1\": random.sample(BStage3List, len(BStage3List)),\n",
        "        \"A3\": random.sample(BStage3List, len(BStage3List)),\n",
        "    },\n",
        "    B_pref={\n",
        "        \"D1\": random.sample(AStage3List, len(AStage3List)),\n",
        "        \"F2\": random.sample(AStage3List, len(AStage3List)),\n",
        "    },\n",
        ")"
      ],
      "metadata": {
        "colab": {
          "base_uri": "https://localhost:8080/"
        },
        "id": "zHPnW9TWwNM1",
        "outputId": "ef5e01f6-d607-4dd9-fdc7-5bf69e294faa"
      },
      "execution_count": 328,
      "outputs": [
        {
          "output_type": "execute_result",
          "data": {
            "text/plain": [
              "[('A1', 'F2'), ('A3', 'D1')]"
            ]
          },
          "metadata": {},
          "execution_count": 328
        }
      ]
    },
    {
      "cell_type": "code",
      "source": [
        "#Assume that two more teams lost\n",
        "\n",
        "AStage4Set = {\"A1\"}\n",
        "BStage4Set = {\"F2\"}\n",
        "\n",
        "AStage4List = [\"A1\"]\n",
        "BStage4List = [\"F2\"]\n",
        "\n",
        "\n",
        "gale_shapley(\n",
        "    A = AStage4Set,\n",
        "    B = BStage4Set,\n",
        "    A_pref={\n",
        "        \"A1\": BStage4List,\n",
        "    },\n",
        "    B_pref={\n",
        "        \"F2\": AStage4List,\n",
        "    },\n",
        ")"
      ],
      "metadata": {
        "colab": {
          "base_uri": "https://localhost:8080/"
        },
        "id": "rqVbGAe-wvJe",
        "outputId": "42e90e10-09b9-4747-e1db-a560932119e6"
      },
      "execution_count": 329,
      "outputs": [
        {
          "output_type": "execute_result",
          "data": {
            "text/plain": [
              "[('A1', 'F2')]"
            ]
          },
          "metadata": {},
          "execution_count": 329
        }
      ]
    },
    {
      "cell_type": "code",
      "source": [
        "A_pref={\n",
        "        \"A1\": ['E2', 'F2', 'D3', 'F3', 'E1', 'F1', 'D1', 'D2'],\n",
        "        \"A2\": ['F2', 'D2', 'D1', 'E2', 'E1', 'D3', 'F1', 'F3'],\n",
        "        \"A3\": ['F1', 'D2', 'D1', 'F3', 'D3', 'E1', 'E2', 'F2'],\n",
        "        \"B1\": ['E2', 'D3', 'D2', 'F3', 'F1', 'E1', 'D1', 'F2'],\n",
        "        \"B2\": ['F2', 'E1', 'D1', 'D3', 'F3', 'D2', 'F1', 'E2'],\n",
        "        \"C1\": ['D2', 'D3', 'D1', 'E1', 'F1', 'F3', 'E2', 'F2'],\n",
        "        \"C1\": ['D2', 'D1', 'F2', 'F1', 'D3', 'E2', 'E1', 'F3'],\n",
        "        \"C2\": ['D3', 'F1', 'E2', 'F2', 'D1', 'E1', 'F3', 'D2'],\n",
        "        \"C3\": ['F2', 'D3', 'D2', 'E2', 'E1', 'F3', 'F1', 'D1'],\n",
        "}\n",
        "\n",
        "B_pref={\n",
        "        \"D1\": ['A3', 'C1', 'C3', 'A2', 'C2', 'B2', 'A1', 'B1'],\n",
        "        \"D2\": ['C1', 'A3', 'C2', 'C3', 'B1', 'A1', 'B2', 'A2'],\n",
        "        \"D3\": ['C2', 'A1', 'C1', 'A2', 'B1', 'A3', 'C3', 'B2'],\n",
        "        \"E1\": ['A1', 'C2', 'A3', 'A2', 'B1', 'C1', 'B2', 'C3'],\n",
        "        \"E2\": ['C2', 'B1', 'C1', 'A3', 'A1', 'B2', 'C3', 'A2'],\n",
        "        \"F1\": ['A2', 'C1', 'B2', 'A1', 'B1', 'C3', 'C2', 'A3'],\n",
        "        \"F2\": ['A2', 'C3', 'A1', 'A3', 'C2', 'C1', 'B1', 'B2'],\n",
        "        \"F3\": ['A2', 'C2', 'B2', 'A1', 'A3', 'C1', 'B1', 'C3'],\n",
        "}"
      ],
      "metadata": {
        "id": "PuFZ1GieFA78"
      },
      "execution_count": 330,
      "outputs": []
    },
    {
      "cell_type": "code",
      "source": [
        "execution_times = list()"
      ],
      "metadata": {
        "id": "rpNHcAwRIQu2"
      },
      "execution_count": 331,
      "outputs": []
    },
    {
      "cell_type": "code",
      "source": [
        "st = datetime.datetime.now()\n",
        "stm = st.microsecond / 1000 \n",
        "\n",
        "gale_shapley(\n",
        "      A = setA, \n",
        "      B = setB, \n",
        "      A_pref= A_pref,\n",
        "    B_pref=B_pref,\n",
        ")\n",
        "\n",
        "et = datetime.datetime.now()\n",
        "etm = et.microsecond / 1000\n",
        "execution_times.append(etm - stm)"
      ],
      "metadata": {
        "id": "DWmNVXWNm2Kg"
      },
      "execution_count": 332,
      "outputs": []
    },
    {
      "cell_type": "code",
      "source": [
        "def cross(A, B):\n",
        "    \"\"\"The set of ways of concatenating one item from collection A with one from B.\"\"\"\n",
        "    return {a + b \n",
        "            for a in A for b in B}"
      ],
      "metadata": {
        "id": "Nbw7IUgapuYb"
      },
      "execution_count": 333,
      "outputs": []
    },
    {
      "cell_type": "code",
      "source": [
        "setA = cross('ABCD', '1234')\n",
        "setB = cross('abcd', '1234')"
      ],
      "metadata": {
        "id": "MKKLwdlnp1Bd"
      },
      "execution_count": 334,
      "outputs": []
    },
    {
      "cell_type": "code",
      "source": [
        "a_pref={\n",
        "        \"A1\": random.sample(setB, len(setB)),\n",
        "        \"A2\": random.sample(setB, len(setB)),\n",
        "        \"A3\": random.sample(setB, len(setB)),\n",
        "        \"A4\": random.sample(setB, len(setB)),\n",
        "        \"B1\": random.sample(setB, len(setB)),\n",
        "        \"B2\": random.sample(setB, len(setB)),\n",
        "        \"B3\": random.sample(setB, len(setB)),\n",
        "        \"B4\": random.sample(setB, len(setB)),\n",
        "        \"C1\": random.sample(setB, len(setB)),\n",
        "        \"C2\": random.sample(setB, len(setB)),\n",
        "        \"C3\": random.sample(setB, len(setB)),\n",
        "        \"C4\": random.sample(setB, len(setB)),\n",
        "        \"D1\": random.sample(setB, len(setB)),\n",
        "        \"D2\": random.sample(setB, len(setB)),\n",
        "        \"D3\": random.sample(setB, len(setB)),\n",
        "        \"D4\": random.sample(setB, len(setB)),\n",
        "\n",
        "    }\n",
        "\n",
        "b_pref={\n",
        "        \"a1\": random.sample(setA, len(setA)),\n",
        "        \"a2\": random.sample(setA, len(setA)),\n",
        "        \"a3\": random.sample(setA, len(setA)),\n",
        "        \"a4\": random.sample(setA, len(setA)),\n",
        "        \"b1\": random.sample(setA, len(setA)),\n",
        "        \"b2\": random.sample(setA, len(setA)),\n",
        "        \"b3\": random.sample(setA, len(setA)),\n",
        "        \"b4\": random.sample(setA, len(setA)),\n",
        "        \"c1\": random.sample(setA, len(setA)),\n",
        "        \"c2\": random.sample(setA, len(setA)),\n",
        "        \"c3\": random.sample(setA, len(setA)),\n",
        "        \"c4\": random.sample(setA, len(setA)),\n",
        "        \"d1\": random.sample(setA, len(setA)),\n",
        "        \"d2\": random.sample(setA, len(setA)),\n",
        "        \"d3\": random.sample(setA, len(setA)),\n",
        "        \"d4\": random.sample(setA, len(setA)),\n",
        "    }"
      ],
      "metadata": {
        "id": "7NtmIyqi7xS9"
      },
      "execution_count": 335,
      "outputs": []
    },
    {
      "cell_type": "code",
      "source": [
        "st = datetime.datetime.now()\n",
        "stm = st.microsecond / 1000 \n",
        "gale_shapley(\n",
        "    A = setA,\n",
        "    B = setB,\n",
        "    A_pref = a_pref,\n",
        "    B_pref = b_pref\n",
        ")\n",
        "et = datetime.datetime.now()\n",
        "etm = et.microsecond / 1000\n",
        "\n",
        "execution_times.append(etm - stm)"
      ],
      "metadata": {
        "id": "sLeyMvc_qKor"
      },
      "execution_count": 336,
      "outputs": []
    },
    {
      "cell_type": "code",
      "source": [
        "setA = cross('ABCDEFGH', '1234')\n",
        "setB = cross('abcdefgh', '1234')\n",
        "\n",
        "print(setA)\n",
        "print(setB)"
      ],
      "metadata": {
        "colab": {
          "base_uri": "https://localhost:8080/"
        },
        "id": "sSRRawSmrQ9q",
        "outputId": "6ac6ee52-e309-4205-e07e-3bda0fadca43"
      },
      "execution_count": 337,
      "outputs": [
        {
          "output_type": "stream",
          "name": "stdout",
          "text": [
            "{'D4', 'H4', 'C4', 'B2', 'F2', 'D2', 'E1', 'A1', 'B4', 'F3', 'H1', 'C3', 'E2', 'H3', 'D3', 'A2', 'B1', 'E4', 'C1', 'A3', 'D1', 'G3', 'C2', 'A4', 'E3', 'G2', 'H2', 'G1', 'F4', 'G4', 'B3', 'F1'}\n",
            "{'g2', 'f2', 'd4', 'a1', 'a2', 'e1', 'c1', 'g3', 'a4', 'h2', 'h3', 'h1', 'f3', 'h4', 'b2', 'b1', 'e2', 'g1', 'd2', 'g4', 'c2', 'f1', 'c4', 'f4', 'e4', 'b3', 'd1', 'a3', 'd3', 'c3', 'b4', 'e3'}\n"
          ]
        }
      ]
    },
    {
      "cell_type": "code",
      "source": [
        "\n",
        "a_pref = {\n",
        "        \"A1\": random.sample(setB, len(setB)),\n",
        "        \"A2\": random.sample(setB, len(setB)),\n",
        "        \"A3\": random.sample(setB, len(setB)),\n",
        "        \"A4\": random.sample(setB, len(setB)),\n",
        "        \"B1\": random.sample(setB, len(setB)),\n",
        "        \"B2\": random.sample(setB, len(setB)),\n",
        "        \"B3\": random.sample(setB, len(setB)),\n",
        "        \"B4\": random.sample(setB, len(setB)),\n",
        "        \"B1\": random.sample(setB, len(setB)),\n",
        "        \"B2\": random.sample(setB, len(setB)),\n",
        "        \"B3\": random.sample(setB, len(setB)),\n",
        "        \"B4\": random.sample(setB, len(setB)),\n",
        "        \"C1\": random.sample(setB, len(setB)),\n",
        "        \"C2\": random.sample(setB, len(setB)),\n",
        "        \"C3\": random.sample(setB, len(setB)),\n",
        "        \"C4\": random.sample(setB, len(setB)),\n",
        "        \"D1\": random.sample(setB, len(setB)),\n",
        "        \"D2\": random.sample(setB, len(setB)),\n",
        "        \"D3\": random.sample(setB, len(setB)),\n",
        "        \"D4\": random.sample(setB, len(setB)),\n",
        "        \"E1\": random.sample(setB, len(setB)),\n",
        "        \"E2\": random.sample(setB, len(setB)),\n",
        "        \"E3\": random.sample(setB, len(setB)),\n",
        "        \"E4\": random.sample(setB, len(setB)),\n",
        "        \"F1\": random.sample(setB, len(setB)),\n",
        "        \"F2\": random.sample(setB, len(setB)),\n",
        "        \"F3\": random.sample(setB, len(setB)),\n",
        "        \"F4\": random.sample(setB, len(setB)),\n",
        "        \"G1\": random.sample(setB, len(setB)),\n",
        "        \"G2\": random.sample(setB, len(setB)),\n",
        "        \"G3\": random.sample(setB, len(setB)),\n",
        "        \"G4\": random.sample(setB, len(setB)),\n",
        "        \"H1\": random.sample(setB, len(setB)),\n",
        "        \"H2\": random.sample(setB, len(setB)),\n",
        "        \"H3\": random.sample(setB, len(setB)),\n",
        "        \"H4\": random.sample(setB, len(setB)),\n",
        "\n",
        "    }\n",
        "\n",
        "b_pref = {\n",
        "        \"a1\": random.sample(setA, len(setA)),\n",
        "        \"a2\": random.sample(setA, len(setA)),\n",
        "        \"a3\": random.sample(setA, len(setA)),\n",
        "        \"a4\": random.sample(setA, len(setA)),\n",
        "        \"b1\": random.sample(setA, len(setA)),\n",
        "        \"b2\": random.sample(setA, len(setA)),\n",
        "        \"b3\": random.sample(setA, len(setA)),\n",
        "        \"b4\": random.sample(setA, len(setA)),\n",
        "        \"c1\": random.sample(setA, len(setA)),\n",
        "        \"c2\": random.sample(setA, len(setA)),\n",
        "        \"c3\": random.sample(setA, len(setA)),\n",
        "        \"c4\": random.sample(setA, len(setA)),\n",
        "        \"d1\": random.sample(setA, len(setA)),\n",
        "        \"d2\": random.sample(setA, len(setA)),\n",
        "        \"d3\": random.sample(setA, len(setA)),\n",
        "        \"d4\": random.sample(setA, len(setA)),\n",
        "        \"e1\": random.sample(setA, len(setA)),\n",
        "        \"e2\": random.sample(setA, len(setA)),\n",
        "        \"e3\": random.sample(setA, len(setA)),\n",
        "        \"e4\": random.sample(setA, len(setA)),\n",
        "        \"f1\": random.sample(setA, len(setA)),\n",
        "        \"f2\": random.sample(setA, len(setA)),\n",
        "        \"f3\": random.sample(setA, len(setA)),\n",
        "        \"f4\": random.sample(setA, len(setA)),\n",
        "        \"g1\": random.sample(setA, len(setA)),\n",
        "        \"g2\": random.sample(setA, len(setA)),\n",
        "        \"g3\": random.sample(setA, len(setA)),\n",
        "        \"g4\": random.sample(setA, len(setA)),\n",
        "        \"h1\": random.sample(setA, len(setA)),\n",
        "        \"h2\": random.sample(setA, len(setA)),\n",
        "        \"h3\": random.sample(setA, len(setA)),\n",
        "        \"h4\": random.sample(setA, len(setA)),\n",
        "    }"
      ],
      "metadata": {
        "id": "qYRjAsDayHSf"
      },
      "execution_count": 338,
      "outputs": []
    },
    {
      "cell_type": "code",
      "source": [
        "st = datetime.datetime.now()\n",
        "stm = st.microsecond / 1000 \n",
        "gale_shapley(\n",
        "    A = setA,\n",
        "    B = setB,\n",
        "    A_pref = a_pref,\n",
        "    B_pref = b_pref\n",
        ")\n",
        "et = datetime.datetime.now()\n",
        "etm = et.microsecond / 1000\n",
        "\n",
        "execution_times.append(etm - stm)"
      ],
      "metadata": {
        "id": "d6Jl4Q036KvK"
      },
      "execution_count": 339,
      "outputs": []
    },
    {
      "cell_type": "code",
      "source": [
        "setA = cross('ABCDEFGH', '12345678')\n",
        "setB = cross('abcdefgh', '12345678')\n",
        "\n",
        "print(setA)\n",
        "print(setB)"
      ],
      "metadata": {
        "colab": {
          "base_uri": "https://localhost:8080/"
        },
        "id": "pX1PmzjwAvXO",
        "outputId": "3c64ebfb-1b49-4b15-9b72-9f0be046de17"
      },
      "execution_count": 340,
      "outputs": [
        {
          "output_type": "stream",
          "name": "stdout",
          "text": [
            "{'D4', 'H4', 'C4', 'B2', 'F2', 'B3', 'D2', 'A5', 'D7', 'A7', 'F6', 'E8', 'E1', 'E7', 'A1', 'H5', 'B4', 'F3', 'E6', 'H6', 'F7', 'F8', 'H7', 'H8', 'H1', 'C3', 'D5', 'E2', 'H3', 'D3', 'A2', 'B1', 'G6', 'E4', 'C1', 'D6', 'A3', 'B7', 'D1', 'C5', 'G3', 'C2', 'C8', 'G5', 'B5', 'A6', 'B8', 'A4', 'C7', 'G8', 'A8', 'E3', 'D8', 'F5', 'G2', 'H2', 'G7', 'G1', 'E5', 'F4', 'G4', 'C6', 'B6', 'F1'}\n",
            "{'a5', 'a8', 'g2', 'a7', 'e5', 'c1', 'a1', 'a2', 'd4', 'e1', 'f2', 'a4', 'g3', 'g5', 'h2', 'h3', 'h1', 'f8', 'f7', 'g8', 'e6', 'f3', 'd6', 'h4', 'a6', 'h8', 'b2', 'b1', 'e2', 'c5', 'g1', 'c7', 'b6', 'd2', 'c8', 'b5', 'h6', 'b7', 'c6', 'f6', 'g4', 'd7', 'c2', 'f1', 'g7', 'b8', 'c4', 'e8', 'h5', 'f4', 'd5', 'h7', 'e4', 'b3', 'd1', 'a3', 'd3', 'e7', 'c3', 'f5', 'b4', 'd8', 'g6', 'e3'}\n"
          ]
        }
      ]
    },
    {
      "cell_type": "code",
      "source": [
        "\n",
        "a_pref = {\n",
        "        \"A1\": random.sample(setB, len(setB)),\n",
        "        \"A2\": random.sample(setB, len(setB)),\n",
        "        \"A3\": random.sample(setB, len(setB)),\n",
        "        \"A4\": random.sample(setB, len(setB)),\n",
        "        \"A5\": random.sample(setB, len(setB)),\n",
        "        \"A6\": random.sample(setB, len(setB)),\n",
        "        \"A7\": random.sample(setB, len(setB)),\n",
        "        \"A8\": random.sample(setB, len(setB)),\n",
        "        \"B1\": random.sample(setB, len(setB)),\n",
        "        \"B2\": random.sample(setB, len(setB)),\n",
        "        \"B3\": random.sample(setB, len(setB)),\n",
        "        \"B4\": random.sample(setB, len(setB)),\n",
        "        \"B5\": random.sample(setB, len(setB)),\n",
        "        \"B6\": random.sample(setB, len(setB)),\n",
        "        \"B7\": random.sample(setB, len(setB)),\n",
        "        \"B8\": random.sample(setB, len(setB)),\n",
        "        \"C1\": random.sample(setB, len(setB)),\n",
        "        \"C2\": random.sample(setB, len(setB)),\n",
        "        \"C3\": random.sample(setB, len(setB)),\n",
        "        \"C4\": random.sample(setB, len(setB)),\n",
        "        \"C5\": random.sample(setB, len(setB)),\n",
        "        \"C6\": random.sample(setB, len(setB)),\n",
        "        \"C7\": random.sample(setB, len(setB)),\n",
        "        \"C8\": random.sample(setB, len(setB)),\n",
        "        \"D1\": random.sample(setB, len(setB)),\n",
        "        \"D2\": random.sample(setB, len(setB)),\n",
        "        \"D3\": random.sample(setB, len(setB)),\n",
        "        \"D4\": random.sample(setB, len(setB)),\n",
        "        \"D5\": random.sample(setB, len(setB)),\n",
        "        \"D6\": random.sample(setB, len(setB)),\n",
        "        \"D7\": random.sample(setB, len(setB)),\n",
        "        \"D8\": random.sample(setB, len(setB)),\n",
        "        \"E1\": random.sample(setB, len(setB)),\n",
        "        \"E2\": random.sample(setB, len(setB)),\n",
        "        \"E3\": random.sample(setB, len(setB)),\n",
        "        \"E4\": random.sample(setB, len(setB)),\n",
        "        \"E5\": random.sample(setB, len(setB)),\n",
        "        \"E6\": random.sample(setB, len(setB)),\n",
        "        \"E7\": random.sample(setB, len(setB)),\n",
        "        \"E8\": random.sample(setB, len(setB)),\n",
        "        \"F1\": random.sample(setB, len(setB)),\n",
        "        \"F2\": random.sample(setB, len(setB)),\n",
        "        \"F3\": random.sample(setB, len(setB)),\n",
        "        \"F4\": random.sample(setB, len(setB)),\n",
        "        \"F5\": random.sample(setB, len(setB)),\n",
        "        \"F6\": random.sample(setB, len(setB)),\n",
        "        \"F7\": random.sample(setB, len(setB)),\n",
        "        \"F8\": random.sample(setB, len(setB)),\n",
        "        \"G1\": random.sample(setB, len(setB)),\n",
        "        \"G2\": random.sample(setB, len(setB)),\n",
        "        \"G3\": random.sample(setB, len(setB)),\n",
        "        \"G4\": random.sample(setB, len(setB)),\n",
        "        \"G5\": random.sample(setB, len(setB)),\n",
        "        \"G6\": random.sample(setB, len(setB)),\n",
        "        \"G7\": random.sample(setB, len(setB)),\n",
        "        \"G8\": random.sample(setB, len(setB)),\n",
        "        \"H1\": random.sample(setB, len(setB)),\n",
        "        \"H2\": random.sample(setB, len(setB)),\n",
        "        \"H3\": random.sample(setB, len(setB)),\n",
        "        \"H4\": random.sample(setB, len(setB)),\n",
        "        \"H5\": random.sample(setB, len(setB)),\n",
        "        \"H6\": random.sample(setB, len(setB)),\n",
        "        \"H7\": random.sample(setB, len(setB)),\n",
        "        \"H8\": random.sample(setB, len(setB)),\n",
        "    }\n",
        "\n",
        "b_pref = {\n",
        "        \"a1\": random.sample(setA, len(setA)),\n",
        "        \"a2\": random.sample(setA, len(setA)),\n",
        "        \"a3\": random.sample(setA, len(setA)),\n",
        "        \"a4\": random.sample(setA, len(setA)),\n",
        "        \"a5\": random.sample(setA, len(setA)),\n",
        "        \"a6\": random.sample(setA, len(setA)),\n",
        "        \"a7\": random.sample(setA, len(setA)),\n",
        "        \"a8\": random.sample(setA, len(setA)),\n",
        "        \"b1\": random.sample(setA, len(setA)),\n",
        "        \"b2\": random.sample(setA, len(setA)),\n",
        "        \"b3\": random.sample(setA, len(setA)),\n",
        "        \"b4\": random.sample(setA, len(setA)),\n",
        "        \"b5\": random.sample(setA, len(setA)),\n",
        "        \"b6\": random.sample(setA, len(setA)),\n",
        "        \"b7\": random.sample(setA, len(setA)),\n",
        "        \"b8\": random.sample(setA, len(setA)),\n",
        "        \"c1\": random.sample(setA, len(setA)),\n",
        "        \"c2\": random.sample(setA, len(setA)),\n",
        "        \"c3\": random.sample(setA, len(setA)),\n",
        "        \"c4\": random.sample(setA, len(setA)),\n",
        "        \"c5\": random.sample(setA, len(setA)),\n",
        "        \"c6\": random.sample(setA, len(setA)),\n",
        "        \"c7\": random.sample(setA, len(setA)),\n",
        "        \"c8\": random.sample(setA, len(setA)),\n",
        "        \"d1\": random.sample(setA, len(setA)),\n",
        "        \"d2\": random.sample(setA, len(setA)),\n",
        "        \"d3\": random.sample(setA, len(setA)),\n",
        "        \"d4\": random.sample(setA, len(setA)),\n",
        "        \"d5\": random.sample(setA, len(setA)),\n",
        "        \"d6\": random.sample(setA, len(setA)),\n",
        "        \"d7\": random.sample(setA, len(setA)),\n",
        "        \"d8\": random.sample(setA, len(setA)),\n",
        "        \"e1\": random.sample(setA, len(setA)),\n",
        "        \"e2\": random.sample(setA, len(setA)),\n",
        "        \"e3\": random.sample(setA, len(setA)),\n",
        "        \"e4\": random.sample(setA, len(setA)),\n",
        "        \"e5\": random.sample(setA, len(setA)),\n",
        "        \"e6\": random.sample(setA, len(setA)),\n",
        "        \"e7\": random.sample(setA, len(setA)),\n",
        "        \"e8\": random.sample(setA, len(setA)),\n",
        "        \"f1\": random.sample(setA, len(setA)),\n",
        "        \"f2\": random.sample(setA, len(setA)),\n",
        "        \"f3\": random.sample(setA, len(setA)),\n",
        "        \"f4\": random.sample(setA, len(setA)),\n",
        "        \"f5\": random.sample(setA, len(setA)),\n",
        "        \"f6\": random.sample(setA, len(setA)),\n",
        "        \"f7\": random.sample(setA, len(setA)),\n",
        "        \"f8\": random.sample(setA, len(setA)),\n",
        "        \"g1\": random.sample(setA, len(setA)),\n",
        "        \"g2\": random.sample(setA, len(setA)),\n",
        "        \"g3\": random.sample(setA, len(setA)),\n",
        "        \"g4\": random.sample(setA, len(setA)),\n",
        "        \"g5\": random.sample(setA, len(setA)),\n",
        "        \"g6\": random.sample(setA, len(setA)),\n",
        "        \"g7\": random.sample(setA, len(setA)),\n",
        "        \"g8\": random.sample(setA, len(setA)),\n",
        "        \"h1\": random.sample(setA, len(setA)),\n",
        "        \"h2\": random.sample(setA, len(setA)),\n",
        "        \"h3\": random.sample(setA, len(setA)),\n",
        "        \"h4\": random.sample(setA, len(setA)),\n",
        "        \"h5\": random.sample(setA, len(setA)),\n",
        "        \"h6\": random.sample(setA, len(setA)),\n",
        "        \"h7\": random.sample(setA, len(setA)),\n",
        "        \"h8\": random.sample(setA, len(setA)),\n",
        "}"
      ],
      "metadata": {
        "id": "UPjFs8qJAzhd"
      },
      "execution_count": 341,
      "outputs": []
    },
    {
      "cell_type": "code",
      "source": [
        "st = datetime.datetime.now()\n",
        "stm = st.microsecond / 1000 \n",
        "gale_shapley(\n",
        "    A = setA,\n",
        "    B = setB,\n",
        "    A_pref = a_pref,\n",
        "    B_pref = b_pref\n",
        ")\n",
        "et = datetime.datetime.now()\n",
        "etm = et.microsecond / 1000\n",
        "\n",
        "execution_times.append(etm - stm)"
      ],
      "metadata": {
        "id": "Jz-3qcBCA9ZO"
      },
      "execution_count": 342,
      "outputs": []
    },
    {
      "cell_type": "code",
      "source": [
        "setA = cross('ABCDEFGHIJKLMNOP', '12345678')\n",
        "setB = cross('abcdefghijklmnop', '12345678')\n",
        "\n",
        "print(setA)\n",
        "print(setB)"
      ],
      "metadata": {
        "colab": {
          "base_uri": "https://localhost:8080/"
        },
        "id": "0aGl_hgy8B2J",
        "outputId": "33f3d2c3-0c14-4b13-9495-cb16c6648386"
      },
      "execution_count": 343,
      "outputs": [
        {
          "output_type": "stream",
          "name": "stdout",
          "text": [
            "{'K7', 'H4', 'C4', 'B2', 'L1', 'P2', 'D7', 'F6', 'J6', 'E8', 'A1', 'N1', 'F3', 'E6', 'I7', 'D3', 'A2', 'E4', 'D6', 'A3', 'J5', 'J3', 'M7', 'M4', 'M8', 'K8', 'O4', 'G2', 'J8', 'K3', 'E5', 'G4', 'K2', 'I2', 'F1', 'D2', 'O2', 'E7', 'I8', 'M5', 'B4', 'H8', 'H1', 'I4', 'L2', 'I6', 'O1', 'H3', 'L7', 'M2', 'P1', 'C5', 'O3', 'P6', 'A6', 'L3', 'G8', 'L8', 'E3', 'D8', 'F5', 'J7', 'K6', 'G1', 'G6', 'F4', 'C6', 'P8', 'O7', 'D4', 'P5', 'P7', 'A5', 'J1', 'M1', 'O5', 'H5', 'I5', 'H7', 'F7', 'L6', 'C3', 'D5', 'E2', 'B1', 'N8', 'C1', 'O8', 'G3', 'M3', 'C2', 'G5', 'J4', 'K4', 'C7', 'P3', 'H2', 'K5', 'B3', 'B6', 'F2', 'N7', 'N5', 'A7', 'I1', 'E1', 'H6', 'J2', 'N6', 'N3', 'F8', 'L5', 'O6', 'B7', 'D1', 'M6', 'N2', 'C8', 'N4', 'P4', 'B5', 'I3', 'B8', 'A4', 'A8', 'G7', 'K1', 'L4'}\n",
            "{'k8', 'a5', 'l3', 'g2', 'g3', 'h3', 'l4', 'o1', 'i4', 'd2', 'i3', 'm5', 'n8', 'k7', 'j2', 'n3', 'e8', 'f4', 'l7', 'd5', 'b3', 'e7', 'c3', 'o6', 'p7', 'g4', 'j8', 'a8', 'd4', 'k1', 'h1', 'f8', 'o4', 'k5', 'f3', 'h4', 'n5', 'j7', 'j5', 'c7', 'b6', 'j4', 'c8', 'k4', 'o8', 'l5', 'o2', 'n2', 'f6', 'l8', 'i2', 'f1', 'g7', 'b8', 'l1', 'l2', 'h5', 'k6', 'i1', 'h7', 'a3', 'm4', 'o7', 'n1', 'b4', 'k2', 'j3', 'f2', 'a1', 'a2', 'l6', 'h2', 'f7', 'i7', 'k3', 'd6', 'h8', 'b2', 'e2', 'i8', 'm7', 'm2', 'b5', 'p5', 'b7', 'n7', 'c2', 'p6', 'j1', 'm3', 'p2', 'd3', 'j6', 'g6', 'a7', 'e5', 'c1', 'e1', 'g5', 'a4', 'i5', 'o5', 'g8', 'e6', 'p8', 'o3', 'a6', 'b1', 'c5', 'g1', 'n4', 'h6', 'c6', 'm1', 'd7', 'm8', 'c4', 'm6', 'p3', 'e4', 'd1', 'n6', 'f5', 'i6', 'd8', 'p4', 'e3', 'p1'}\n"
          ]
        }
      ]
    },
    {
      "cell_type": "code",
      "source": [
        "\n",
        "a_pref = {\n",
        "        \"A1\": random.sample(setB, len(setB)),\n",
        "        \"A2\": random.sample(setB, len(setB)),\n",
        "        \"A3\": random.sample(setB, len(setB)),\n",
        "        \"A4\": random.sample(setB, len(setB)),\n",
        "        \"A5\": random.sample(setB, len(setB)),\n",
        "        \"A6\": random.sample(setB, len(setB)),\n",
        "        \"A7\": random.sample(setB, len(setB)),\n",
        "        \"A8\": random.sample(setB, len(setB)),\n",
        "        \"B1\": random.sample(setB, len(setB)),\n",
        "        \"B2\": random.sample(setB, len(setB)),\n",
        "        \"B3\": random.sample(setB, len(setB)),\n",
        "        \"B4\": random.sample(setB, len(setB)),\n",
        "        \"B5\": random.sample(setB, len(setB)),\n",
        "        \"B6\": random.sample(setB, len(setB)),\n",
        "        \"B7\": random.sample(setB, len(setB)),\n",
        "        \"B8\": random.sample(setB, len(setB)),\n",
        "        \"C1\": random.sample(setB, len(setB)),\n",
        "        \"C2\": random.sample(setB, len(setB)),\n",
        "        \"C3\": random.sample(setB, len(setB)),\n",
        "        \"C4\": random.sample(setB, len(setB)),\n",
        "        \"C5\": random.sample(setB, len(setB)),\n",
        "        \"C6\": random.sample(setB, len(setB)),\n",
        "        \"C7\": random.sample(setB, len(setB)),\n",
        "        \"C8\": random.sample(setB, len(setB)),\n",
        "        \"D1\": random.sample(setB, len(setB)),\n",
        "        \"D2\": random.sample(setB, len(setB)),\n",
        "        \"D3\": random.sample(setB, len(setB)),\n",
        "        \"D4\": random.sample(setB, len(setB)),\n",
        "        \"D5\": random.sample(setB, len(setB)),\n",
        "        \"D6\": random.sample(setB, len(setB)),\n",
        "        \"D7\": random.sample(setB, len(setB)),\n",
        "        \"D8\": random.sample(setB, len(setB)),\n",
        "        \"E1\": random.sample(setB, len(setB)),\n",
        "        \"E2\": random.sample(setB, len(setB)),\n",
        "        \"E3\": random.sample(setB, len(setB)),\n",
        "        \"E4\": random.sample(setB, len(setB)),\n",
        "        \"E5\": random.sample(setB, len(setB)),\n",
        "        \"E6\": random.sample(setB, len(setB)),\n",
        "        \"E7\": random.sample(setB, len(setB)),\n",
        "        \"E8\": random.sample(setB, len(setB)),\n",
        "        \"F1\": random.sample(setB, len(setB)),\n",
        "        \"F2\": random.sample(setB, len(setB)),\n",
        "        \"F3\": random.sample(setB, len(setB)),\n",
        "        \"F4\": random.sample(setB, len(setB)),\n",
        "        \"F5\": random.sample(setB, len(setB)),\n",
        "        \"F6\": random.sample(setB, len(setB)),\n",
        "        \"F7\": random.sample(setB, len(setB)),\n",
        "        \"F8\": random.sample(setB, len(setB)),\n",
        "        \"G1\": random.sample(setB, len(setB)),\n",
        "        \"G2\": random.sample(setB, len(setB)),\n",
        "        \"G3\": random.sample(setB, len(setB)),\n",
        "        \"G4\": random.sample(setB, len(setB)),\n",
        "        \"G5\": random.sample(setB, len(setB)),\n",
        "        \"G6\": random.sample(setB, len(setB)),\n",
        "        \"G7\": random.sample(setB, len(setB)),\n",
        "        \"G8\": random.sample(setB, len(setB)),\n",
        "        \"H1\": random.sample(setB, len(setB)),\n",
        "        \"H2\": random.sample(setB, len(setB)),\n",
        "        \"H3\": random.sample(setB, len(setB)),\n",
        "        \"H4\": random.sample(setB, len(setB)),\n",
        "        \"H5\": random.sample(setB, len(setB)),\n",
        "        \"H6\": random.sample(setB, len(setB)),\n",
        "        \"H7\": random.sample(setB, len(setB)),\n",
        "        \"H8\": random.sample(setB, len(setB)),\n",
        "        \"I1\": random.sample(setB, len(setB)),\n",
        "        \"I2\": random.sample(setB, len(setB)),\n",
        "        \"I3\": random.sample(setB, len(setB)),\n",
        "        \"I4\": random.sample(setB, len(setB)),\n",
        "        \"I5\": random.sample(setB, len(setB)),\n",
        "        \"I6\": random.sample(setB, len(setB)),\n",
        "        \"I7\": random.sample(setB, len(setB)),\n",
        "        \"I8\": random.sample(setB, len(setB)),\n",
        "        \"J1\": random.sample(setB, len(setB)),\n",
        "        \"J2\": random.sample(setB, len(setB)),\n",
        "        \"J3\": random.sample(setB, len(setB)),\n",
        "        \"J4\": random.sample(setB, len(setB)),\n",
        "        \"J5\": random.sample(setB, len(setB)),\n",
        "        \"J6\": random.sample(setB, len(setB)),\n",
        "        \"J7\": random.sample(setB, len(setB)),\n",
        "        \"J8\": random.sample(setB, len(setB)),\n",
        "        \"K1\": random.sample(setB, len(setB)),\n",
        "        \"K2\": random.sample(setB, len(setB)),\n",
        "        \"K3\": random.sample(setB, len(setB)),\n",
        "        \"K4\": random.sample(setB, len(setB)),\n",
        "        \"K5\": random.sample(setB, len(setB)),\n",
        "        \"K6\": random.sample(setB, len(setB)),\n",
        "        \"K7\": random.sample(setB, len(setB)),\n",
        "        \"K8\": random.sample(setB, len(setB)),\n",
        "        \"L1\": random.sample(setB, len(setB)),\n",
        "        \"L2\": random.sample(setB, len(setB)),\n",
        "        \"L3\": random.sample(setB, len(setB)),\n",
        "        \"L4\": random.sample(setB, len(setB)),\n",
        "        \"L5\": random.sample(setB, len(setB)),\n",
        "        \"L6\": random.sample(setB, len(setB)),\n",
        "        \"L7\": random.sample(setB, len(setB)),\n",
        "        \"L8\": random.sample(setB, len(setB)),\n",
        "        \"M1\": random.sample(setB, len(setB)),\n",
        "        \"M2\": random.sample(setB, len(setB)),\n",
        "        \"M3\": random.sample(setB, len(setB)),\n",
        "        \"M4\": random.sample(setB, len(setB)),\n",
        "        \"M5\": random.sample(setB, len(setB)),\n",
        "        \"M6\": random.sample(setB, len(setB)),\n",
        "        \"M7\": random.sample(setB, len(setB)),\n",
        "        \"M8\": random.sample(setB, len(setB)),\n",
        "        \"N1\": random.sample(setB, len(setB)),\n",
        "        \"N2\": random.sample(setB, len(setB)),\n",
        "        \"N3\": random.sample(setB, len(setB)),\n",
        "        \"N4\": random.sample(setB, len(setB)),\n",
        "        \"N5\": random.sample(setB, len(setB)),\n",
        "        \"N6\": random.sample(setB, len(setB)),\n",
        "        \"N7\": random.sample(setB, len(setB)),\n",
        "        \"N8\": random.sample(setB, len(setB)),\n",
        "        \"O1\": random.sample(setB, len(setB)),\n",
        "        \"O2\": random.sample(setB, len(setB)),\n",
        "        \"O3\": random.sample(setB, len(setB)),\n",
        "        \"O4\": random.sample(setB, len(setB)),\n",
        "        \"O5\": random.sample(setB, len(setB)),\n",
        "        \"O6\": random.sample(setB, len(setB)),\n",
        "        \"O7\": random.sample(setB, len(setB)),\n",
        "        \"O8\": random.sample(setB, len(setB)),\n",
        "        \"P1\": random.sample(setB, len(setB)),\n",
        "        \"P2\": random.sample(setB, len(setB)),\n",
        "        \"P3\": random.sample(setB, len(setB)),\n",
        "        \"P4\": random.sample(setB, len(setB)),\n",
        "        \"P5\": random.sample(setB, len(setB)),\n",
        "        \"P6\": random.sample(setB, len(setB)),\n",
        "        \"P7\": random.sample(setB, len(setB)),\n",
        "        \"P8\": random.sample(setB, len(setB)),\n",
        "      \n",
        "\n",
        "    }\n",
        "\n",
        "b_pref = {\n",
        "        \"a1\": random.sample(setA, len(setA)),\n",
        "        \"a2\": random.sample(setA, len(setA)),\n",
        "        \"a3\": random.sample(setA, len(setA)),\n",
        "        \"a4\": random.sample(setA, len(setA)),\n",
        "        \"a5\": random.sample(setA, len(setA)),\n",
        "        \"a6\": random.sample(setA, len(setA)),\n",
        "        \"a7\": random.sample(setA, len(setA)),\n",
        "        \"a8\": random.sample(setA, len(setA)),\n",
        "        \"b1\": random.sample(setA, len(setA)),\n",
        "        \"b2\": random.sample(setA, len(setA)),\n",
        "        \"b3\": random.sample(setA, len(setA)),\n",
        "        \"b4\": random.sample(setA, len(setA)),\n",
        "        \"b5\": random.sample(setA, len(setA)),\n",
        "        \"b6\": random.sample(setA, len(setA)),\n",
        "        \"b7\": random.sample(setA, len(setA)),\n",
        "        \"b8\": random.sample(setA, len(setA)),\n",
        "        \"c1\": random.sample(setA, len(setA)),\n",
        "        \"c2\": random.sample(setA, len(setA)),\n",
        "        \"c3\": random.sample(setA, len(setA)),\n",
        "        \"c4\": random.sample(setA, len(setA)),\n",
        "        \"c5\": random.sample(setA, len(setA)),\n",
        "        \"c6\": random.sample(setA, len(setA)),\n",
        "        \"c7\": random.sample(setA, len(setA)),\n",
        "        \"c8\": random.sample(setA, len(setA)),\n",
        "        \"d1\": random.sample(setA, len(setA)),\n",
        "        \"d2\": random.sample(setA, len(setA)),\n",
        "        \"d3\": random.sample(setA, len(setA)),\n",
        "        \"d4\": random.sample(setA, len(setA)),\n",
        "        \"d5\": random.sample(setA, len(setA)),\n",
        "        \"d6\": random.sample(setA, len(setA)),\n",
        "        \"d7\": random.sample(setA, len(setA)),\n",
        "        \"d8\": random.sample(setA, len(setA)),\n",
        "        \"e1\": random.sample(setA, len(setA)),\n",
        "        \"e2\": random.sample(setA, len(setA)),\n",
        "        \"e3\": random.sample(setA, len(setA)),\n",
        "        \"e4\": random.sample(setA, len(setA)),\n",
        "        \"e5\": random.sample(setA, len(setA)),\n",
        "        \"e6\": random.sample(setA, len(setA)),\n",
        "        \"e7\": random.sample(setA, len(setA)),\n",
        "        \"e8\": random.sample(setA, len(setA)),\n",
        "        \"f1\": random.sample(setA, len(setA)),\n",
        "        \"f2\": random.sample(setA, len(setA)),\n",
        "        \"f3\": random.sample(setA, len(setA)),\n",
        "        \"f4\": random.sample(setA, len(setA)),\n",
        "        \"f5\": random.sample(setA, len(setA)),\n",
        "        \"f6\": random.sample(setA, len(setA)),\n",
        "        \"f7\": random.sample(setA, len(setA)),\n",
        "        \"f8\": random.sample(setA, len(setA)),\n",
        "        \"g1\": random.sample(setA, len(setA)),\n",
        "        \"g2\": random.sample(setA, len(setA)),\n",
        "        \"g3\": random.sample(setA, len(setA)),\n",
        "        \"g4\": random.sample(setA, len(setA)),\n",
        "        \"g5\": random.sample(setA, len(setA)),\n",
        "        \"g6\": random.sample(setA, len(setA)),\n",
        "        \"g7\": random.sample(setA, len(setA)),\n",
        "        \"g8\": random.sample(setA, len(setA)),\n",
        "        \"h1\": random.sample(setA, len(setA)),\n",
        "        \"h2\": random.sample(setA, len(setA)),\n",
        "        \"h3\": random.sample(setA, len(setA)),\n",
        "        \"h4\": random.sample(setA, len(setA)),\n",
        "        \"h5\": random.sample(setA, len(setA)),\n",
        "        \"h6\": random.sample(setA, len(setA)),\n",
        "        \"h7\": random.sample(setA, len(setA)),\n",
        "        \"h8\": random.sample(setA, len(setA)),\n",
        "        \"i1\": random.sample(setA, len(setA)),\n",
        "        \"i2\": random.sample(setA, len(setA)),\n",
        "        \"i3\": random.sample(setA, len(setA)),\n",
        "        \"i4\": random.sample(setA, len(setA)),\n",
        "        \"i5\": random.sample(setA, len(setA)),\n",
        "        \"i6\": random.sample(setA, len(setA)),\n",
        "        \"i7\": random.sample(setA, len(setA)),\n",
        "        \"i8\": random.sample(setA, len(setA)),\n",
        "        \"j1\": random.sample(setA, len(setA)),\n",
        "        \"j2\": random.sample(setA, len(setA)),\n",
        "        \"j3\": random.sample(setA, len(setA)),\n",
        "        \"j4\": random.sample(setA, len(setA)),\n",
        "        \"j5\": random.sample(setA, len(setA)),\n",
        "        \"j6\": random.sample(setA, len(setA)),\n",
        "        \"j7\": random.sample(setA, len(setA)),\n",
        "        \"j8\": random.sample(setA, len(setA)),\n",
        "        \"k1\": random.sample(setA, len(setA)),\n",
        "        \"k2\": random.sample(setA, len(setA)),\n",
        "        \"k3\": random.sample(setA, len(setA)),\n",
        "        \"k4\": random.sample(setA, len(setA)),\n",
        "        \"k5\": random.sample(setA, len(setA)),\n",
        "        \"k6\": random.sample(setA, len(setA)),\n",
        "        \"k7\": random.sample(setA, len(setA)),\n",
        "        \"k8\": random.sample(setA, len(setA)),\n",
        "        \"l1\": random.sample(setA, len(setA)),\n",
        "        \"l2\": random.sample(setA, len(setA)),\n",
        "        \"l3\": random.sample(setA, len(setA)),\n",
        "        \"l4\": random.sample(setA, len(setA)),\n",
        "        \"l5\": random.sample(setA, len(setA)),\n",
        "        \"l6\": random.sample(setA, len(setA)),\n",
        "        \"l7\": random.sample(setA, len(setA)),\n",
        "        \"l8\": random.sample(setA, len(setA)),\n",
        "        \"m1\": random.sample(setA, len(setA)),\n",
        "        \"m2\": random.sample(setA, len(setA)),\n",
        "        \"m3\": random.sample(setA, len(setA)),\n",
        "        \"m4\": random.sample(setA, len(setA)),\n",
        "        \"m5\": random.sample(setA, len(setA)),\n",
        "        \"m6\": random.sample(setA, len(setA)),\n",
        "        \"m7\": random.sample(setA, len(setA)),\n",
        "        \"m8\": random.sample(setA, len(setA)),\n",
        "        \"n1\": random.sample(setA, len(setA)),\n",
        "        \"n2\": random.sample(setA, len(setA)),\n",
        "        \"n3\": random.sample(setA, len(setA)),\n",
        "        \"n4\": random.sample(setA, len(setA)),\n",
        "        \"n5\": random.sample(setA, len(setA)),\n",
        "        \"n6\": random.sample(setA, len(setA)),\n",
        "        \"n7\": random.sample(setA, len(setA)),\n",
        "        \"n8\": random.sample(setA, len(setA)),\n",
        "        \"o1\": random.sample(setA, len(setA)),\n",
        "        \"o2\": random.sample(setA, len(setA)),\n",
        "        \"o3\": random.sample(setA, len(setA)),\n",
        "        \"o4\": random.sample(setA, len(setA)),\n",
        "        \"o5\": random.sample(setA, len(setA)),\n",
        "        \"o6\": random.sample(setA, len(setA)),\n",
        "        \"o7\": random.sample(setA, len(setA)),\n",
        "        \"o8\": random.sample(setA, len(setA)),\n",
        "        \"p1\": random.sample(setA, len(setA)),\n",
        "        \"p2\": random.sample(setA, len(setA)),\n",
        "        \"p3\": random.sample(setA, len(setA)),\n",
        "        \"p4\": random.sample(setA, len(setA)),\n",
        "        \"p5\": random.sample(setA, len(setA)),\n",
        "        \"p6\": random.sample(setA, len(setA)),\n",
        "        \"p7\": random.sample(setA, len(setA)),\n",
        "        \"p8\": random.sample(setA, len(setA)),\n",
        "    \n",
        "}"
      ],
      "metadata": {
        "id": "YsM0WhaH8OQ0"
      },
      "execution_count": 344,
      "outputs": []
    },
    {
      "cell_type": "code",
      "source": [
        "st = datetime.datetime.now()\n",
        "stm = st.microsecond / 1000 \n",
        "gale_shapley(\n",
        "    A = setA,\n",
        "    B = setB,\n",
        "    A_pref = a_pref,\n",
        "    B_pref = b_pref\n",
        ")\n",
        "et = datetime.datetime.now()\n",
        "etm = et.microsecond / 1000\n",
        "\n",
        "execution_times.append(etm - stm)"
      ],
      "metadata": {
        "id": "VtGEvsch9DGK"
      },
      "execution_count": 345,
      "outputs": []
    },
    {
      "cell_type": "code",
      "source": [
        "import matplotlib.pyplot as plt\n",
        "import numpy as np\n",
        "\n",
        "set_sizes = [8, 16, 32, 64, 128]\n",
        "\n",
        "plt.xlabel(\"Set size\")\n",
        "plt.ylabel(\"Execution time in millis\")\n",
        "plt.title(\"Growth of execution time wrt set size\")\n",
        "plt.plot(set_sizes, execution_times)"
      ],
      "metadata": {
        "colab": {
          "base_uri": "https://localhost:8080/",
          "height": 312
        },
        "id": "zPf2wrGyAk0B",
        "outputId": "c05c08ef-ee7c-438b-c28c-ebac0405feb7"
      },
      "execution_count": 348,
      "outputs": [
        {
          "output_type": "execute_result",
          "data": {
            "text/plain": [
              "[<matplotlib.lines.Line2D at 0x7fae40cedfd0>]"
            ]
          },
          "metadata": {},
          "execution_count": 348
        },
        {
          "output_type": "display_data",
          "data": {
            "text/plain": [
              "<Figure size 432x288 with 1 Axes>"
            ],
            "image/png": "[encoded data removed]"
          },
          "metadata": {
            "needs_background": "light"
          }
        }
      ]
    }
  ]
}