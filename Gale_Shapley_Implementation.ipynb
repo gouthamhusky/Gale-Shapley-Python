{
  "nbformat": 4,
  "nbformat_minor": 0,
  "metadata": {
    "colab": {
      "provenance": [],
      "authorship_tag": "ABX9TyN+ch/Js7tnzEh93VRK7ari",
      "include_colab_link": true
    },
    "kernelspec": {
      "name": "python3",
      "display_name": "Python 3"
    },
    "language_info": {
      "name": "python"
    }
  },
  "cells": [
    {
      "cell_type": "markdown",
      "metadata": {
        "id": "view-in-github",
        "colab_type": "text"
      },
      "source": [
        "<a href=\"https://colab.research.google.com/github/gouthamhusky/Gale-Shapley-Python/blob/main/Gale_Shapley_Implementation.ipynb\" target=\"_parent\"><img src=\"https://colab.research.google.com/assets/colab-badge.svg\" alt=\"Open In Colab\"/></a>"
      ]
    },
    {
      "cell_type": "code",
      "source": [
        "import random\n",
        "from collections import deque \n",
        "import datetime"
      ],
      "metadata": {
        "id": "fxsWRZBocF4r"
      },
      "execution_count": 85,
      "outputs": []
    },
    {
      "cell_type": "code",
      "source": [
        "setA = {\"A1\", \"A2\", \"A3\", \"B1\", \"B2\", \"C1\", \"C2\", \"C3\"}\n",
        "listA = [\"A1\", \"A2\", \"A3\", \"B1\", \"B2\", \"C1\", \"C2\", \"C3\"]\n",
        "setB = {\"D1\", \"D2\", \"D3\", \"E1\", \"E2\", \"F1\", \"F2\", \"F3\"}\n",
        "listB = [\"D1\", \"D2\", \"D3\", \"E1\", \"E2\", \"F1\", \"F2\", \"F3\"]"
      ],
      "metadata": {
        "id": "_iigFuSrBAav"
      },
      "execution_count": 59,
      "outputs": []
    },
    {
      "cell_type": "code",
      "source": [
        "# create a ranking of the form \n",
        "# {TeamA': {'TeamB': 0, 'TeamB': 1, 'TeamC': 2}\n",
        "\n",
        "def pref_to_rank(pref):\n",
        "    return {\n",
        "        a: {b: rank for rank, b in enumerate(a_pref)}\n",
        "        for a, a_pref in pref.items()\n",
        "    }\n",
        "\n",
        "def gale_shapley(*, A, B, A_pref, B_pref):\n",
        "    \n",
        "    B_rank = pref_to_rank(B_pref)\n",
        "    # Convert A's preference list to a form:\n",
        "    # {'TeamA1': deque(['TeamE2', 'TeamF2', 'TeamD3', 'TeamF3', 'TeamE1', 'TeamF1', 'TeamD1', 'TeamD2'])\n",
        "    # deque makes it easier to access most preferred due to FIFO\n",
        "    a_list = {a: deque(pref_list) for a, pref_list in A_pref.items()}\n",
        "    pair = {}\n",
        "    # remaining A's that have not yet proposed\n",
        "    remaining_A = set(A)\n",
        "    while len(remaining_A) > 0:\n",
        "        # pop out an element from set A\n",
        "        a = remaining_A.pop()\n",
        "        # pop out the element's most preferred from its preferences\n",
        "        b = a_list[a].popleft()\n",
        "        # if b is unengaged, pair them up\n",
        "        if b not in pair:\n",
        "            pair[b] = a\n",
        "        \n",
        "        else:\n",
        "            # get the current partner of b\n",
        "            a_current = pair[b]\n",
        "            b_prefer_current = B_rank[b][a_current] < B_rank[b][a]\n",
        "            # if b prefers its current partner to a, then add a back to the remaining set\n",
        "            if b_prefer_current:\n",
        "                remaining_A.add(a)\n",
        "            else:\n",
        "            # if b prefers a over its current partner, add a0 to remaining and pair (a, b)\n",
        "                remaining_A.add(a_current)\n",
        "                pair[b] = a\n",
        "    \n",
        "    return [(a, b) for b, a in pair.items()]"
      ],
      "metadata": {
        "id": "j5fJpIZNsYSg"
      },
      "execution_count": 60,
      "outputs": []
    },
    {
      "cell_type": "code",
      "source": [
        "matching = gale_shapley(\n",
        "      A = setA, \n",
        "      B = setB, \n",
        "      A_pref={\n",
        "        \"A1\": ['E2', 'F2', 'D3', 'F3', 'E1', 'F1', 'D1', 'D2'],\n",
        "        \"A2\": ['F2', 'D2', 'D1', 'E2', 'E1', 'D3', 'F1', 'F3'],\n",
        "        \"A3\": ['F1', 'D2', 'D1', 'F3', 'D3', 'E1', 'E2', 'F2'],\n",
        "        \"B1\": ['E2', 'D3', 'D2', 'F3', 'F1', 'E1', 'D1', 'F2'],\n",
        "        \"B2\": ['F2', 'E1', 'D1', 'D3', 'F3', 'D2', 'F1', 'E2'],\n",
        "        \"C1\": ['D2', 'D3', 'D1', 'E1', 'F1', 'F3', 'E2', 'F2'],\n",
        "        \"C1\": ['D2', 'D1', 'F2', 'F1', 'D3', 'E2', 'E1', 'F3'],\n",
        "        \"C2\": ['D3', 'F1', 'E2', 'F2', 'D1', 'E1', 'F3', 'D2'],\n",
        "        \"C3\": ['F2', 'D3', 'D2', 'E2', 'E1', 'F3', 'F1', 'D1'],\n",
        "    },\n",
        "    B_pref={\n",
        "        \"D1\": ['A3', 'C1', 'C3', 'A2', 'C2', 'B2', 'A1', 'B1'],\n",
        "        \"D2\": ['C1', 'A3', 'C2', 'C3', 'B1', 'A1', 'B2', 'A2'],\n",
        "        \"D3\": ['C2', 'A1', 'C1', 'A2', 'B1', 'A3', 'C3', 'B2'],\n",
        "        \"E1\": ['A1', 'C2', 'A3', 'A2', 'B1', 'C1', 'B2', 'C3'],\n",
        "        \"E2\": ['C2', 'B1', 'C1', 'A3', 'A1', 'B2', 'C3', 'A2'],\n",
        "        \"F1\": ['A2', 'C1', 'B2', 'A1', 'B1', 'C3', 'C2', 'A3'],\n",
        "        \"F2\": ['A2', 'C3', 'A1', 'A3', 'C2', 'C1', 'B1', 'B2'],\n",
        "        \"F3\": ['A2', 'C2', 'B2', 'A1', 'A3', 'C1', 'B1', 'C3'],\n",
        "    },\n",
        ")\n",
        "\n",
        "print(matching)"
      ],
      "metadata": {
        "colab": {
          "base_uri": "https://localhost:8080/"
        },
        "id": "379EEJ0crTtI",
        "outputId": "7a44c31d-f7a4-4fe6-a604-ea197c46ad7d"
      },
      "execution_count": 62,
      "outputs": [
        {
          "output_type": "stream",
          "name": "stdout",
          "text": [
            "[('C3', 'F1'), ('C1', 'D2'), ('A2', 'F2'), ('B1', 'E2'), ('C2', 'D3'), ('B2', 'E1'), ('A1', 'F3'), ('A3', 'D1')]\n"
          ]
        }
      ]
    },
    {
      "cell_type": "code",
      "source": [
        "def gale_shapley_bool(*, A, B, A_pref, B_pref):\n",
        "    B_rank = pref_to_rank(B_pref)\n",
        "    # Convert A's preference list to a form:\n",
        "    # {'TeamA1': deque(['TeamE2', 'TeamF2', 'TeamD3', 'TeamF3', 'TeamE1', 'TeamF1', 'TeamD1', 'TeamD2'])\n",
        "    # deque makes it easier to access most preferred due to FIFO\n",
        "    a_list = {a: deque(pref_list) for a, pref_list in A_pref.items()}\n",
        "    pair = {}\n",
        "    # remaining A's that have not yet proposed\n",
        "    remaining_A = set(A)\n",
        "    while len(remaining_A) > 0:\n",
        "        # pop out an element from set A\n",
        "        a = remaining_A.pop()\n",
        "        # pop out the element's most preferred from its preferences\n",
        "        b = a_list[a].popleft()\n",
        "        # if b is unengaged, pair them up\n",
        "        if b not in pair:\n",
        "            pair[b] = a\n",
        "        \n",
        "        else:\n",
        "            # get the current partner of b\n",
        "            a_current = pair[b]\n",
        "            b_prefer_current = B_rank[b][a_current] < B_rank[b][a]\n",
        "            # if b prefers its current partner to a, then add a back to the remaining set\n",
        "            if b_prefer_current:\n",
        "                remaining_A.add(a)\n",
        "            else:\n",
        "            # if b prefers a over its current partner, add a0 to remaining and pair (a, b)\n",
        "                remaining_A.add(a_current)\n",
        "                pair[b] = a\n",
        "    return len(pair) == 8"
      ],
      "metadata": {
        "id": "qwPiPUmPFvGs"
      },
      "execution_count": 63,
      "outputs": []
    },
    {
      "cell_type": "code",
      "source": [
        "from collections import deque\n",
        "from tqdm import tqdm\n",
        "\n",
        "\n",
        "stableMatches = 0\n",
        "for i in range(1000):\n",
        "  matching = gale_shapley_bool(\n",
        "      A = setA, \n",
        "      B = setB, \n",
        "      A_pref={\n",
        "        \"A1\": random.sample(listB, len(listB)),\n",
        "        \"A2\": random.sample(listB, len(listB)),\n",
        "        \"A3\": random.sample(listB, len(listB)),\n",
        "        \"B1\": random.sample(listB, len(listB)),\n",
        "        \"B2\": random.sample(listB, len(listB)),\n",
        "        \"C1\": random.sample(listB, len(listB)),\n",
        "        \"C2\": random.sample(listB, len(listB)),\n",
        "        \"C3\": random.sample(listB, len(listB)),\n",
        "    },\n",
        "    B_pref={\n",
        "        \"D1\": random.sample(listA, len(listA)),\n",
        "        \"D2\": random.sample(listA, len(listA)),\n",
        "        \"D3\": random.sample(listA, len(listA)),\n",
        "        \"E1\": random.sample(listA, len(listA)),\n",
        "        \"E2\": random.sample(listA, len(listA)),\n",
        "        \"F1\": random.sample(listA, len(listA)),\n",
        "        \"F2\": random.sample(listA, len(listA)),\n",
        "        \"F3\": random.sample(listA, len(listA)),\n",
        "    },\n",
        "      )\n",
        "  if matching == True:\n",
        "    stableMatches +=1\n",
        "  \n",
        "print(\"% of stable matches: \", stableMatches/1000 * 100)"
      ],
      "metadata": {
        "id": "KCPQDU2zsf7g",
        "colab": {
          "base_uri": "https://localhost:8080/"
        },
        "outputId": "37cdf490-bb94-44ec-fdac-eb634c6e5394"
      },
      "execution_count": 64,
      "outputs": [
        {
          "output_type": "stream",
          "name": "stdout",
          "text": [
            "% of stable matches:  100.0\n"
          ]
        }
      ]
    },
    {
      "cell_type": "code",
      "source": [
        "# Assume that 8 teams lost \n",
        "\n",
        "AStage2Set = {\"A1\", \"A3\", \"B1\", \"C3\"}\n",
        "BStage2Set = {\"D1\", \"D2\", \"F1\", \"F2\"}\n",
        "\n",
        "AStage2List = [\"A1\", \"A3\", \"B1\", \"C3\"]\n",
        "BStage2List = [\"D1\", \"D2\", \"F1\", \"F2\"]\n",
        "\n",
        "\n",
        "gale_shapley(\n",
        "    A = AStage2Set,\n",
        "    B = BStage2Set,\n",
        "    A_pref={\n",
        "        \"A1\": random.sample(BStage2List, len(BStage2List)),\n",
        "        \"A3\": random.sample(BStage2List, len(BStage2List)),\n",
        "        \"B1\": random.sample(BStage2List, len(BStage2List)),\n",
        "        \"C3\": random.sample(BStage2List, len(BStage2List)),\n",
        "    },\n",
        "    B_pref={\n",
        "        \"D1\": random.sample(AStage2List, len(AStage2List)),\n",
        "        \"D2\": random.sample(AStage2List, len(AStage2List)),\n",
        "        \"F1\": random.sample(AStage2List, len(AStage2List)),\n",
        "        \"F2\": random.sample(AStage2List, len(AStage2List)),\n",
        "    },\n",
        ")"
      ],
      "metadata": {
        "colab": {
          "base_uri": "https://localhost:8080/"
        },
        "id": "9RM-v5gXuvTH",
        "outputId": "7379dfc1-1174-4212-f918-d15a0fc45f65"
      },
      "execution_count": 65,
      "outputs": [
        {
          "output_type": "execute_result",
          "data": {
            "text/plain": [
              "[('A3', 'F2'), ('C3', 'D2'), ('A1', 'D1'), ('B1', 'F1')]"
            ]
          },
          "metadata": {},
          "execution_count": 65
        }
      ]
    },
    {
      "cell_type": "code",
      "source": [
        "# Assume that 4 teams lost \n",
        "\n",
        "AStage3Set = {\"A1\", \"A3\"}\n",
        "BStage3Set = {\"D1\", \"F2\"}\n",
        "\n",
        "AStage3List = [\"A1\", \"A3\"]\n",
        "BStage3List = [\"D1\", \"F2\"]\n",
        "\n",
        "\n",
        "gale_shapley(\n",
        "    A = AStage3Set,\n",
        "    B = BStage3Set,\n",
        "    A_pref={\n",
        "        \"A1\": random.sample(BStage3List, len(BStage3List)),\n",
        "        \"A3\": random.sample(BStage3List, len(BStage3List)),\n",
        "    },\n",
        "    B_pref={\n",
        "        \"D1\": random.sample(AStage3List, len(AStage3List)),\n",
        "        \"F2\": random.sample(AStage3List, len(AStage3List)),\n",
        "    },\n",
        ")"
      ],
      "metadata": {
        "colab": {
          "base_uri": "https://localhost:8080/"
        },
        "id": "zHPnW9TWwNM1",
        "outputId": "1b2e1f5c-c9ad-4864-d68a-6bbeaf2535af"
      },
      "execution_count": 66,
      "outputs": [
        {
          "output_type": "execute_result",
          "data": {
            "text/plain": [
              "[('A3', 'F2'), ('A1', 'D1')]"
            ]
          },
          "metadata": {},
          "execution_count": 66
        }
      ]
    },
    {
      "cell_type": "code",
      "source": [
        "#Assume that two more teams lost\n",
        "\n",
        "AStage4Set = {\"A1\"}\n",
        "BStage4Set = {\"F2\"}\n",
        "\n",
        "AStage4List = [\"A1\"]\n",
        "BStage4List = [\"F2\"]\n",
        "\n",
        "\n",
        "gale_shapley(\n",
        "    A = AStage4Set,\n",
        "    B = BStage4Set,\n",
        "    A_pref={\n",
        "        \"A1\": BStage4List,\n",
        "    },\n",
        "    B_pref={\n",
        "        \"F2\": AStage4List,\n",
        "    },\n",
        ")"
      ],
      "metadata": {
        "colab": {
          "base_uri": "https://localhost:8080/"
        },
        "id": "rqVbGAe-wvJe",
        "outputId": "c911360c-2e6a-4137-9531-760bbab269c0"
      },
      "execution_count": 67,
      "outputs": [
        {
          "output_type": "execute_result",
          "data": {
            "text/plain": [
              "[('A1', 'F2')]"
            ]
          },
          "metadata": {},
          "execution_count": 67
        }
      ]
    },
    {
      "cell_type": "code",
      "source": [
        "A_pref={\n",
        "        \"A1\": ['E2', 'F2', 'D3', 'F3', 'E1', 'F1', 'D1', 'D2'],\n",
        "        \"A2\": ['F2', 'D2', 'D1', 'E2', 'E1', 'D3', 'F1', 'F3'],\n",
        "        \"A3\": ['F1', 'D2', 'D1', 'F3', 'D3', 'E1', 'E2', 'F2'],\n",
        "        \"B1\": ['E2', 'D3', 'D2', 'F3', 'F1', 'E1', 'D1', 'F2'],\n",
        "        \"B2\": ['F2', 'E1', 'D1', 'D3', 'F3', 'D2', 'F1', 'E2'],\n",
        "        \"C1\": ['D2', 'D3', 'D1', 'E1', 'F1', 'F3', 'E2', 'F2'],\n",
        "        \"C1\": ['D2', 'D1', 'F2', 'F1', 'D3', 'E2', 'E1', 'F3'],\n",
        "        \"C2\": ['D3', 'F1', 'E2', 'F2', 'D1', 'E1', 'F3', 'D2'],\n",
        "        \"C3\": ['F2', 'D3', 'D2', 'E2', 'E1', 'F3', 'F1', 'D1'],\n",
        "}\n",
        "\n",
        "B_pref={\n",
        "        \"D1\": ['A3', 'C1', 'C3', 'A2', 'C2', 'B2', 'A1', 'B1'],\n",
        "        \"D2\": ['C1', 'A3', 'C2', 'C3', 'B1', 'A1', 'B2', 'A2'],\n",
        "        \"D3\": ['C2', 'A1', 'C1', 'A2', 'B1', 'A3', 'C3', 'B2'],\n",
        "        \"E1\": ['A1', 'C2', 'A3', 'A2', 'B1', 'C1', 'B2', 'C3'],\n",
        "        \"E2\": ['C2', 'B1', 'C1', 'A3', 'A1', 'B2', 'C3', 'A2'],\n",
        "        \"F1\": ['A2', 'C1', 'B2', 'A1', 'B1', 'C3', 'C2', 'A3'],\n",
        "        \"F2\": ['A2', 'C3', 'A1', 'A3', 'C2', 'C1', 'B1', 'B2'],\n",
        "        \"F3\": ['A2', 'C2', 'B2', 'A1', 'A3', 'C1', 'B1', 'C3'],\n",
        "}"
      ],
      "metadata": {
        "id": "PuFZ1GieFA78"
      },
      "execution_count": 68,
      "outputs": []
    },
    {
      "cell_type": "code",
      "source": [
        "execution_times = list()"
      ],
      "metadata": {
        "id": "rpNHcAwRIQu2"
      },
      "execution_count": 69,
      "outputs": []
    },
    {
      "cell_type": "code",
      "source": [
        "st = datetime.datetime.now()\n",
        "stm = st.microsecond / 1000 \n",
        "\n",
        "gale_shapley(\n",
        "      A = setA, \n",
        "      B = setB, \n",
        "      A_pref= A_pref,\n",
        "    B_pref=B_pref,\n",
        ")\n",
        "\n",
        "et = datetime.datetime.now()\n",
        "etm = et.microsecond / 1000\n",
        "execution_times.append(etm - stm)"
      ],
      "metadata": {
        "id": "DWmNVXWNm2Kg"
      },
      "execution_count": 70,
      "outputs": []
    },
    {
      "cell_type": "code",
      "source": [
        "def cross(A, B):\n",
        "    \"\"\"The set of ways of concatenating one item from collection A with one from B.\"\"\"\n",
        "    return {a + b \n",
        "            for a in A for b in B}"
      ],
      "metadata": {
        "id": "Nbw7IUgapuYb"
      },
      "execution_count": 71,
      "outputs": []
    },
    {
      "cell_type": "code",
      "source": [
        "setA = cross('ABCD', '1234')\n",
        "setB = cross('abcd', '1234')"
      ],
      "metadata": {
        "id": "MKKLwdlnp1Bd"
      },
      "execution_count": 72,
      "outputs": []
    },
    {
      "cell_type": "code",
      "source": [
        "a_pref={\n",
        "        \"A1\": random.sample(setB, len(setB)),\n",
        "        \"A2\": random.sample(setB, len(setB)),\n",
        "        \"A3\": random.sample(setB, len(setB)),\n",
        "        \"A4\": random.sample(setB, len(setB)),\n",
        "        \"B1\": random.sample(setB, len(setB)),\n",
        "        \"B2\": random.sample(setB, len(setB)),\n",
        "        \"B3\": random.sample(setB, len(setB)),\n",
        "        \"B4\": random.sample(setB, len(setB)),\n",
        "        \"C1\": random.sample(setB, len(setB)),\n",
        "        \"C2\": random.sample(setB, len(setB)),\n",
        "        \"C3\": random.sample(setB, len(setB)),\n",
        "        \"C4\": random.sample(setB, len(setB)),\n",
        "        \"D1\": random.sample(setB, len(setB)),\n",
        "        \"D2\": random.sample(setB, len(setB)),\n",
        "        \"D3\": random.sample(setB, len(setB)),\n",
        "        \"D4\": random.sample(setB, len(setB)),\n",
        "\n",
        "    }\n",
        "\n",
        "b_pref={\n",
        "        \"a1\": random.sample(setA, len(setA)),\n",
        "        \"a2\": random.sample(setA, len(setA)),\n",
        "        \"a3\": random.sample(setA, len(setA)),\n",
        "        \"a4\": random.sample(setA, len(setA)),\n",
        "        \"b1\": random.sample(setA, len(setA)),\n",
        "        \"b2\": random.sample(setA, len(setA)),\n",
        "        \"b3\": random.sample(setA, len(setA)),\n",
        "        \"b4\": random.sample(setA, len(setA)),\n",
        "        \"c1\": random.sample(setA, len(setA)),\n",
        "        \"c2\": random.sample(setA, len(setA)),\n",
        "        \"c3\": random.sample(setA, len(setA)),\n",
        "        \"c4\": random.sample(setA, len(setA)),\n",
        "        \"d1\": random.sample(setA, len(setA)),\n",
        "        \"d2\": random.sample(setA, len(setA)),\n",
        "        \"d3\": random.sample(setA, len(setA)),\n",
        "        \"d4\": random.sample(setA, len(setA)),\n",
        "    }"
      ],
      "metadata": {
        "id": "7NtmIyqi7xS9"
      },
      "execution_count": 73,
      "outputs": []
    },
    {
      "cell_type": "code",
      "source": [
        "st = datetime.datetime.now()\n",
        "stm = st.microsecond / 1000 \n",
        "gale_shapley(\n",
        "    A = setA,\n",
        "    B = setB,\n",
        "    A_pref = a_pref,\n",
        "    B_pref = b_pref\n",
        ")\n",
        "et = datetime.datetime.now()\n",
        "etm = et.microsecond / 1000\n",
        "\n",
        "execution_times.append(etm - stm)"
      ],
      "metadata": {
        "id": "sLeyMvc_qKor"
      },
      "execution_count": 74,
      "outputs": []
    },
    {
      "cell_type": "code",
      "source": [
        "setA = cross('ABCDEFGH', '1234')\n",
        "setB = cross('abcdefgh', '1234')\n",
        "\n",
        "print(setA)\n",
        "print(setB)"
      ],
      "metadata": {
        "colab": {
          "base_uri": "https://localhost:8080/"
        },
        "id": "sSRRawSmrQ9q",
        "outputId": "e9166ff2-3163-47cf-e5c5-9b85e9e4917d"
      },
      "execution_count": 75,
      "outputs": [
        {
          "output_type": "stream",
          "name": "stdout",
          "text": [
            "{'D4', 'G1', 'H2', 'G4', 'A4', 'E4', 'A3', 'E2', 'D2', 'C3', 'B2', 'D3', 'G2', 'A2', 'G3', 'B3', 'C4', 'B4', 'A1', 'C2', 'C1', 'F4', 'H4', 'D1', 'H3', 'F2', 'F3', 'B1', 'H1', 'F1', 'E3', 'E1'}\n",
            "{'g3', 'd2', 'a4', 'h2', 'h3', 'f3', 'e4', 'f4', 'b2', 'c1', 'c2', 'h4', 'd4', 'e3', 'g1', 'e1', 'f2', 'h1', 'd3', 'd1', 'a3', 'b4', 'a2', 'f1', 'b1', 'g2', 'a1', 'e2', 'c4', 'g4', 'b3', 'c3'}\n"
          ]
        }
      ]
    },
    {
      "cell_type": "code",
      "source": [
        "\n",
        "a_pref = {\n",
        "        \"A1\": random.sample(setB, len(setB)),\n",
        "        \"A2\": random.sample(setB, len(setB)),\n",
        "        \"A3\": random.sample(setB, len(setB)),\n",
        "        \"A4\": random.sample(setB, len(setB)),\n",
        "        \"B1\": random.sample(setB, len(setB)),\n",
        "        \"B2\": random.sample(setB, len(setB)),\n",
        "        \"B3\": random.sample(setB, len(setB)),\n",
        "        \"B4\": random.sample(setB, len(setB)),\n",
        "        \"B1\": random.sample(setB, len(setB)),\n",
        "        \"B2\": random.sample(setB, len(setB)),\n",
        "        \"B3\": random.sample(setB, len(setB)),\n",
        "        \"B4\": random.sample(setB, len(setB)),\n",
        "        \"C1\": random.sample(setB, len(setB)),\n",
        "        \"C2\": random.sample(setB, len(setB)),\n",
        "        \"C3\": random.sample(setB, len(setB)),\n",
        "        \"C4\": random.sample(setB, len(setB)),\n",
        "        \"D1\": random.sample(setB, len(setB)),\n",
        "        \"D2\": random.sample(setB, len(setB)),\n",
        "        \"D3\": random.sample(setB, len(setB)),\n",
        "        \"D4\": random.sample(setB, len(setB)),\n",
        "        \"E1\": random.sample(setB, len(setB)),\n",
        "        \"E2\": random.sample(setB, len(setB)),\n",
        "        \"E3\": random.sample(setB, len(setB)),\n",
        "        \"E4\": random.sample(setB, len(setB)),\n",
        "        \"F1\": random.sample(setB, len(setB)),\n",
        "        \"F2\": random.sample(setB, len(setB)),\n",
        "        \"F3\": random.sample(setB, len(setB)),\n",
        "        \"F4\": random.sample(setB, len(setB)),\n",
        "        \"G1\": random.sample(setB, len(setB)),\n",
        "        \"G2\": random.sample(setB, len(setB)),\n",
        "        \"G3\": random.sample(setB, len(setB)),\n",
        "        \"G4\": random.sample(setB, len(setB)),\n",
        "        \"H1\": random.sample(setB, len(setB)),\n",
        "        \"H2\": random.sample(setB, len(setB)),\n",
        "        \"H3\": random.sample(setB, len(setB)),\n",
        "        \"H4\": random.sample(setB, len(setB)),\n",
        "\n",
        "    }\n",
        "\n",
        "b_pref = {\n",
        "        \"a1\": random.sample(setA, len(setA)),\n",
        "        \"a2\": random.sample(setA, len(setA)),\n",
        "        \"a3\": random.sample(setA, len(setA)),\n",
        "        \"a4\": random.sample(setA, len(setA)),\n",
        "        \"b1\": random.sample(setA, len(setA)),\n",
        "        \"b2\": random.sample(setA, len(setA)),\n",
        "        \"b3\": random.sample(setA, len(setA)),\n",
        "        \"b4\": random.sample(setA, len(setA)),\n",
        "        \"c1\": random.sample(setA, len(setA)),\n",
        "        \"c2\": random.sample(setA, len(setA)),\n",
        "        \"c3\": random.sample(setA, len(setA)),\n",
        "        \"c4\": random.sample(setA, len(setA)),\n",
        "        \"d1\": random.sample(setA, len(setA)),\n",
        "        \"d2\": random.sample(setA, len(setA)),\n",
        "        \"d3\": random.sample(setA, len(setA)),\n",
        "        \"d4\": random.sample(setA, len(setA)),\n",
        "        \"e1\": random.sample(setA, len(setA)),\n",
        "        \"e2\": random.sample(setA, len(setA)),\n",
        "        \"e3\": random.sample(setA, len(setA)),\n",
        "        \"e4\": random.sample(setA, len(setA)),\n",
        "        \"f1\": random.sample(setA, len(setA)),\n",
        "        \"f2\": random.sample(setA, len(setA)),\n",
        "        \"f3\": random.sample(setA, len(setA)),\n",
        "        \"f4\": random.sample(setA, len(setA)),\n",
        "        \"g1\": random.sample(setA, len(setA)),\n",
        "        \"g2\": random.sample(setA, len(setA)),\n",
        "        \"g3\": random.sample(setA, len(setA)),\n",
        "        \"g4\": random.sample(setA, len(setA)),\n",
        "        \"h1\": random.sample(setA, len(setA)),\n",
        "        \"h2\": random.sample(setA, len(setA)),\n",
        "        \"h3\": random.sample(setA, len(setA)),\n",
        "        \"h4\": random.sample(setA, len(setA)),\n",
        "    }"
      ],
      "metadata": {
        "id": "qYRjAsDayHSf"
      },
      "execution_count": 76,
      "outputs": []
    },
    {
      "cell_type": "code",
      "source": [
        "st = datetime.datetime.now()\n",
        "stm = st.microsecond / 1000 \n",
        "gale_shapley(\n",
        "    A = setA,\n",
        "    B = setB,\n",
        "    A_pref = a_pref,\n",
        "    B_pref = b_pref\n",
        ")\n",
        "et = datetime.datetime.now()\n",
        "etm = et.microsecond / 1000\n",
        "\n",
        "execution_times.append(etm - stm)"
      ],
      "metadata": {
        "id": "d6Jl4Q036KvK"
      },
      "execution_count": 77,
      "outputs": []
    },
    {
      "cell_type": "code",
      "source": [
        "setA = cross('ABCDEFGH', '12345678')\n",
        "setB = cross('abcdefgh', '12345678')\n",
        "\n",
        "print(setA)\n",
        "print(setB)"
      ],
      "metadata": {
        "colab": {
          "base_uri": "https://localhost:8080/"
        },
        "id": "pX1PmzjwAvXO",
        "outputId": "20bed01e-e440-4333-8599-c345027331f5"
      },
      "execution_count": 78,
      "outputs": [
        {
          "output_type": "stream",
          "name": "stdout",
          "text": [
            "{'C6', 'D4', 'E6', 'C5', 'F8', 'F7', 'B6', 'G1', 'G7', 'E7', 'H2', 'G4', 'A4', 'H8', 'H6', 'E4', 'A3', 'E3', 'E2', 'G6', 'D2', 'C3', 'B2', 'D3', 'E8', 'A2', 'F5', 'G2', 'G3', 'A8', 'B3', 'B4', 'C4', 'A1', 'C2', 'C7', 'E5', 'C1', 'F4', 'H5', 'D7', 'B8', 'H4', 'D6', 'D1', 'F6', 'B5', 'A7', 'D5', 'D8', 'G8', 'H3', 'A6', 'F2', 'F3', 'B1', 'B7', 'C8', 'F1', 'H1', 'H7', 'A5', 'G5', 'E1'}\n",
            "{'g3', 'd2', 'c6', 'a6', 'a4', 'h2', 'b7', 'h3', 'f3', 'a8', 'f7', 'e4', 'f4', 'b2', 'c1', 'a5', 'c2', 'c8', 'h4', 'h6', 'd4', 'e3', 'e8', 'g1', 'e1', 'b5', 'f2', 'h1', 'f8', 'd3', 'e5', 'd1', 'd6', 'g6', 'a3', 'e7', 'b4', 'h7', 'a2', 'f1', 'b1', 'g2', 'h5', 'f5', 'c5', 'h8', 'b6', 'b8', 'd8', 'd5', 'a1', 'g5', 'e6', 'e2', 'g8', 'c4', 'c7', 'g4', 'b3', 'g7', 'c3', 'a7', 'd7', 'f6'}\n"
          ]
        }
      ]
    },
    {
      "cell_type": "code",
      "source": [
        "\n",
        "a_pref = {\n",
        "        \"A1\": random.sample(setB, len(setB)),\n",
        "        \"A2\": random.sample(setB, len(setB)),\n",
        "        \"A3\": random.sample(setB, len(setB)),\n",
        "        \"A4\": random.sample(setB, len(setB)),\n",
        "        \"A5\": random.sample(setB, len(setB)),\n",
        "        \"A6\": random.sample(setB, len(setB)),\n",
        "        \"A7\": random.sample(setB, len(setB)),\n",
        "        \"A8\": random.sample(setB, len(setB)),\n",
        "        \"B1\": random.sample(setB, len(setB)),\n",
        "        \"B2\": random.sample(setB, len(setB)),\n",
        "        \"B3\": random.sample(setB, len(setB)),\n",
        "        \"B4\": random.sample(setB, len(setB)),\n",
        "        \"B5\": random.sample(setB, len(setB)),\n",
        "        \"B6\": random.sample(setB, len(setB)),\n",
        "        \"B7\": random.sample(setB, len(setB)),\n",
        "        \"B8\": random.sample(setB, len(setB)),\n",
        "        \"C1\": random.sample(setB, len(setB)),\n",
        "        \"C2\": random.sample(setB, len(setB)),\n",
        "        \"C3\": random.sample(setB, len(setB)),\n",
        "        \"C4\": random.sample(setB, len(setB)),\n",
        "        \"C5\": random.sample(setB, len(setB)),\n",
        "        \"C6\": random.sample(setB, len(setB)),\n",
        "        \"C7\": random.sample(setB, len(setB)),\n",
        "        \"C8\": random.sample(setB, len(setB)),\n",
        "        \"D1\": random.sample(setB, len(setB)),\n",
        "        \"D2\": random.sample(setB, len(setB)),\n",
        "        \"D3\": random.sample(setB, len(setB)),\n",
        "        \"D4\": random.sample(setB, len(setB)),\n",
        "        \"D5\": random.sample(setB, len(setB)),\n",
        "        \"D6\": random.sample(setB, len(setB)),\n",
        "        \"D7\": random.sample(setB, len(setB)),\n",
        "        \"D8\": random.sample(setB, len(setB)),\n",
        "        \"E1\": random.sample(setB, len(setB)),\n",
        "        \"E2\": random.sample(setB, len(setB)),\n",
        "        \"E3\": random.sample(setB, len(setB)),\n",
        "        \"E4\": random.sample(setB, len(setB)),\n",
        "        \"E5\": random.sample(setB, len(setB)),\n",
        "        \"E6\": random.sample(setB, len(setB)),\n",
        "        \"E7\": random.sample(setB, len(setB)),\n",
        "        \"E8\": random.sample(setB, len(setB)),\n",
        "        \"F1\": random.sample(setB, len(setB)),\n",
        "        \"F2\": random.sample(setB, len(setB)),\n",
        "        \"F3\": random.sample(setB, len(setB)),\n",
        "        \"F4\": random.sample(setB, len(setB)),\n",
        "        \"F5\": random.sample(setB, len(setB)),\n",
        "        \"F6\": random.sample(setB, len(setB)),\n",
        "        \"F7\": random.sample(setB, len(setB)),\n",
        "        \"F8\": random.sample(setB, len(setB)),\n",
        "        \"G1\": random.sample(setB, len(setB)),\n",
        "        \"G2\": random.sample(setB, len(setB)),\n",
        "        \"G3\": random.sample(setB, len(setB)),\n",
        "        \"G4\": random.sample(setB, len(setB)),\n",
        "        \"G5\": random.sample(setB, len(setB)),\n",
        "        \"G6\": random.sample(setB, len(setB)),\n",
        "        \"G7\": random.sample(setB, len(setB)),\n",
        "        \"G8\": random.sample(setB, len(setB)),\n",
        "        \"H1\": random.sample(setB, len(setB)),\n",
        "        \"H2\": random.sample(setB, len(setB)),\n",
        "        \"H3\": random.sample(setB, len(setB)),\n",
        "        \"H4\": random.sample(setB, len(setB)),\n",
        "        \"H5\": random.sample(setB, len(setB)),\n",
        "        \"H6\": random.sample(setB, len(setB)),\n",
        "        \"H7\": random.sample(setB, len(setB)),\n",
        "        \"H8\": random.sample(setB, len(setB)),\n",
        "    }\n",
        "\n",
        "b_pref = {\n",
        "        \"a1\": random.sample(setA, len(setA)),\n",
        "        \"a2\": random.sample(setA, len(setA)),\n",
        "        \"a3\": random.sample(setA, len(setA)),\n",
        "        \"a4\": random.sample(setA, len(setA)),\n",
        "        \"a5\": random.sample(setA, len(setA)),\n",
        "        \"a6\": random.sample(setA, len(setA)),\n",
        "        \"a7\": random.sample(setA, len(setA)),\n",
        "        \"a8\": random.sample(setA, len(setA)),\n",
        "        \"b1\": random.sample(setA, len(setA)),\n",
        "        \"b2\": random.sample(setA, len(setA)),\n",
        "        \"b3\": random.sample(setA, len(setA)),\n",
        "        \"b4\": random.sample(setA, len(setA)),\n",
        "        \"b5\": random.sample(setA, len(setA)),\n",
        "        \"b6\": random.sample(setA, len(setA)),\n",
        "        \"b7\": random.sample(setA, len(setA)),\n",
        "        \"b8\": random.sample(setA, len(setA)),\n",
        "        \"c1\": random.sample(setA, len(setA)),\n",
        "        \"c2\": random.sample(setA, len(setA)),\n",
        "        \"c3\": random.sample(setA, len(setA)),\n",
        "        \"c4\": random.sample(setA, len(setA)),\n",
        "        \"c5\": random.sample(setA, len(setA)),\n",
        "        \"c6\": random.sample(setA, len(setA)),\n",
        "        \"c7\": random.sample(setA, len(setA)),\n",
        "        \"c8\": random.sample(setA, len(setA)),\n",
        "        \"d1\": random.sample(setA, len(setA)),\n",
        "        \"d2\": random.sample(setA, len(setA)),\n",
        "        \"d3\": random.sample(setA, len(setA)),\n",
        "        \"d4\": random.sample(setA, len(setA)),\n",
        "        \"d5\": random.sample(setA, len(setA)),\n",
        "        \"d6\": random.sample(setA, len(setA)),\n",
        "        \"d7\": random.sample(setA, len(setA)),\n",
        "        \"d8\": random.sample(setA, len(setA)),\n",
        "        \"e1\": random.sample(setA, len(setA)),\n",
        "        \"e2\": random.sample(setA, len(setA)),\n",
        "        \"e3\": random.sample(setA, len(setA)),\n",
        "        \"e4\": random.sample(setA, len(setA)),\n",
        "        \"e5\": random.sample(setA, len(setA)),\n",
        "        \"e6\": random.sample(setA, len(setA)),\n",
        "        \"e7\": random.sample(setA, len(setA)),\n",
        "        \"e8\": random.sample(setA, len(setA)),\n",
        "        \"f1\": random.sample(setA, len(setA)),\n",
        "        \"f2\": random.sample(setA, len(setA)),\n",
        "        \"f3\": random.sample(setA, len(setA)),\n",
        "        \"f4\": random.sample(setA, len(setA)),\n",
        "        \"f5\": random.sample(setA, len(setA)),\n",
        "        \"f6\": random.sample(setA, len(setA)),\n",
        "        \"f7\": random.sample(setA, len(setA)),\n",
        "        \"f8\": random.sample(setA, len(setA)),\n",
        "        \"g1\": random.sample(setA, len(setA)),\n",
        "        \"g2\": random.sample(setA, len(setA)),\n",
        "        \"g3\": random.sample(setA, len(setA)),\n",
        "        \"g4\": random.sample(setA, len(setA)),\n",
        "        \"g5\": random.sample(setA, len(setA)),\n",
        "        \"g6\": random.sample(setA, len(setA)),\n",
        "        \"g7\": random.sample(setA, len(setA)),\n",
        "        \"g8\": random.sample(setA, len(setA)),\n",
        "        \"h1\": random.sample(setA, len(setA)),\n",
        "        \"h2\": random.sample(setA, len(setA)),\n",
        "        \"h3\": random.sample(setA, len(setA)),\n",
        "        \"h4\": random.sample(setA, len(setA)),\n",
        "        \"h5\": random.sample(setA, len(setA)),\n",
        "        \"h6\": random.sample(setA, len(setA)),\n",
        "        \"h7\": random.sample(setA, len(setA)),\n",
        "        \"h8\": random.sample(setA, len(setA)),\n",
        "}"
      ],
      "metadata": {
        "id": "UPjFs8qJAzhd"
      },
      "execution_count": 79,
      "outputs": []
    },
    {
      "cell_type": "code",
      "source": [
        "st = datetime.datetime.now()\n",
        "stm = st.microsecond / 1000 \n",
        "gale_shapley(\n",
        "    A = setA,\n",
        "    B = setB,\n",
        "    A_pref = a_pref,\n",
        "    B_pref = b_pref\n",
        ")\n",
        "et = datetime.datetime.now()\n",
        "etm = et.microsecond / 1000\n",
        "\n",
        "execution_times.append(etm - stm)"
      ],
      "metadata": {
        "id": "Jz-3qcBCA9ZO"
      },
      "execution_count": 80,
      "outputs": []
    },
    {
      "cell_type": "code",
      "source": [
        "setA = cross('ABCDEFGHIJKLMNOP', '12345678')\n",
        "setB = cross('abcdefghijklmnop', '12345678')\n",
        "\n",
        "print(setA)\n",
        "print(setB)"
      ],
      "metadata": {
        "colab": {
          "base_uri": "https://localhost:8080/"
        },
        "id": "0aGl_hgy8B2J",
        "outputId": "80831091-372a-48b2-950f-f1a62adb921d"
      },
      "execution_count": 81,
      "outputs": [
        {
          "output_type": "stream",
          "name": "stdout",
          "text": [
            "{'J1', 'G1', 'N7', 'H2', 'G4', 'A4', 'K1', 'H8', 'P4', 'P1', 'P7', 'A1', 'I6', 'I1', 'D1', 'A7', 'M1', 'H3', 'K8', 'B1', 'K4', 'N8', 'E3', 'D5', 'A5', 'I3', 'F1', 'E6', 'I7', 'P3', 'B6', 'K6', 'J7', 'E7', 'O2', 'L2', 'E4', 'P8', 'O1', 'D2', 'C3', 'E8', 'N6', 'M6', 'B4', 'C4', 'J8', 'C7', 'O6', 'H4', 'D6', 'I2', 'O3', 'G8', 'I5', 'F2', 'O8', 'H1', 'H7', 'G5', 'E1', 'C6', 'D4', 'F8', 'K3', 'L6', 'M7', 'N4', 'G7', 'O5', 'A3', 'E2', 'G2', 'B2', 'G3', 'A2', 'A8', 'K7', 'K5', 'J3', 'L4', 'J5', 'B8', 'B5', 'N3', 'L8', 'M3', 'N5', 'P5', 'F3', 'J2', 'M2', 'N1', 'C5', 'L3', 'O4', 'F7', 'O7', 'L5', 'H6', 'I8', 'P6', 'J4', 'G6', 'F5', 'D3', 'J6', 'P2', 'B3', 'M4', 'L1', 'C2', 'I4', 'N2', 'E5', 'C1', 'F4', 'H5', 'D7', 'M5', 'F6', 'M8', 'D8', 'L7', 'A6', 'B7', 'C8', 'K2'}\n",
            "{'d2', 'h2', 'o2', 'l7', 'p3', 'e4', 'f4', 'c8', 'a5', 'c2', 'h6', 'm5', 'n4', 'e8', 'i5', 'l2', 'e1', 'h1', 'j4', 'n1', 'a3', 'e7', 'f1', 'b1', 'o4', 'l8', 'c5', 'h8', 'b8', 'p5', 'm4', 'g4', 'c3', 'a7', 'm2', 'g3', 'p4', 'a6', 'i2', 'j2', 'a4', 'k3', 'k5', 'a8', 'c1', 'h4', 'd4', 'e3', 'k1', 'g1', 'i4', 'd1', 'i3', 'p8', 'p7', 'b4', 'l6', 'a2', 'j6', 'n2', 'o7', 'i6', 'n3', 'b6', 'd5', 'm8', 'j5', 'i1', 'j1', 'g7', 'g6', 'f6', 'o3', 'b7', 'k4', 'p6', 'f3', 'n7', 'b2', 'j7', 'l5', 'f8', 'd3', 'j3', 'm7', 'l3', 'h7', 'g2', 'f5', 'd8', 'c4', 'i8', 'k7', 'l4', 'k2', 'd7', 'm6', 'j8', 'k8', 'c6', 'n5', 'n6', 'p1', 'm3', 'h3', 'o6', 'f7', 'o1', 'o5', 'b5', 'p2', 'f2', 'e5', 'd6', 'o8', 'n8', 'h5', 'k6', 'g5', 'g8', 'a1', 'e6', 'e2', 'i7', 'c7', 'b3', 'm1', 'l1'}\n"
          ]
        }
      ]
    },
    {
      "cell_type": "code",
      "source": [
        "\n",
        "a_pref = {\n",
        "        \"A1\": random.sample(setB, len(setB)),\n",
        "        \"A2\": random.sample(setB, len(setB)),\n",
        "        \"A3\": random.sample(setB, len(setB)),\n",
        "        \"A4\": random.sample(setB, len(setB)),\n",
        "        \"A5\": random.sample(setB, len(setB)),\n",
        "        \"A6\": random.sample(setB, len(setB)),\n",
        "        \"A7\": random.sample(setB, len(setB)),\n",
        "        \"A8\": random.sample(setB, len(setB)),\n",
        "        \"B1\": random.sample(setB, len(setB)),\n",
        "        \"B2\": random.sample(setB, len(setB)),\n",
        "        \"B3\": random.sample(setB, len(setB)),\n",
        "        \"B4\": random.sample(setB, len(setB)),\n",
        "        \"B5\": random.sample(setB, len(setB)),\n",
        "        \"B6\": random.sample(setB, len(setB)),\n",
        "        \"B7\": random.sample(setB, len(setB)),\n",
        "        \"B8\": random.sample(setB, len(setB)),\n",
        "        \"C1\": random.sample(setB, len(setB)),\n",
        "        \"C2\": random.sample(setB, len(setB)),\n",
        "        \"C3\": random.sample(setB, len(setB)),\n",
        "        \"C4\": random.sample(setB, len(setB)),\n",
        "        \"C5\": random.sample(setB, len(setB)),\n",
        "        \"C6\": random.sample(setB, len(setB)),\n",
        "        \"C7\": random.sample(setB, len(setB)),\n",
        "        \"C8\": random.sample(setB, len(setB)),\n",
        "        \"D1\": random.sample(setB, len(setB)),\n",
        "        \"D2\": random.sample(setB, len(setB)),\n",
        "        \"D3\": random.sample(setB, len(setB)),\n",
        "        \"D4\": random.sample(setB, len(setB)),\n",
        "        \"D5\": random.sample(setB, len(setB)),\n",
        "        \"D6\": random.sample(setB, len(setB)),\n",
        "        \"D7\": random.sample(setB, len(setB)),\n",
        "        \"D8\": random.sample(setB, len(setB)),\n",
        "        \"E1\": random.sample(setB, len(setB)),\n",
        "        \"E2\": random.sample(setB, len(setB)),\n",
        "        \"E3\": random.sample(setB, len(setB)),\n",
        "        \"E4\": random.sample(setB, len(setB)),\n",
        "        \"E5\": random.sample(setB, len(setB)),\n",
        "        \"E6\": random.sample(setB, len(setB)),\n",
        "        \"E7\": random.sample(setB, len(setB)),\n",
        "        \"E8\": random.sample(setB, len(setB)),\n",
        "        \"F1\": random.sample(setB, len(setB)),\n",
        "        \"F2\": random.sample(setB, len(setB)),\n",
        "        \"F3\": random.sample(setB, len(setB)),\n",
        "        \"F4\": random.sample(setB, len(setB)),\n",
        "        \"F5\": random.sample(setB, len(setB)),\n",
        "        \"F6\": random.sample(setB, len(setB)),\n",
        "        \"F7\": random.sample(setB, len(setB)),\n",
        "        \"F8\": random.sample(setB, len(setB)),\n",
        "        \"G1\": random.sample(setB, len(setB)),\n",
        "        \"G2\": random.sample(setB, len(setB)),\n",
        "        \"G3\": random.sample(setB, len(setB)),\n",
        "        \"G4\": random.sample(setB, len(setB)),\n",
        "        \"G5\": random.sample(setB, len(setB)),\n",
        "        \"G6\": random.sample(setB, len(setB)),\n",
        "        \"G7\": random.sample(setB, len(setB)),\n",
        "        \"G8\": random.sample(setB, len(setB)),\n",
        "        \"H1\": random.sample(setB, len(setB)),\n",
        "        \"H2\": random.sample(setB, len(setB)),\n",
        "        \"H3\": random.sample(setB, len(setB)),\n",
        "        \"H4\": random.sample(setB, len(setB)),\n",
        "        \"H5\": random.sample(setB, len(setB)),\n",
        "        \"H6\": random.sample(setB, len(setB)),\n",
        "        \"H7\": random.sample(setB, len(setB)),\n",
        "        \"H8\": random.sample(setB, len(setB)),\n",
        "        \"I1\": random.sample(setB, len(setB)),\n",
        "        \"I2\": random.sample(setB, len(setB)),\n",
        "        \"I3\": random.sample(setB, len(setB)),\n",
        "        \"I4\": random.sample(setB, len(setB)),\n",
        "        \"I5\": random.sample(setB, len(setB)),\n",
        "        \"I6\": random.sample(setB, len(setB)),\n",
        "        \"I7\": random.sample(setB, len(setB)),\n",
        "        \"I8\": random.sample(setB, len(setB)),\n",
        "        \"J1\": random.sample(setB, len(setB)),\n",
        "        \"J2\": random.sample(setB, len(setB)),\n",
        "        \"J3\": random.sample(setB, len(setB)),\n",
        "        \"J4\": random.sample(setB, len(setB)),\n",
        "        \"J5\": random.sample(setB, len(setB)),\n",
        "        \"J6\": random.sample(setB, len(setB)),\n",
        "        \"J7\": random.sample(setB, len(setB)),\n",
        "        \"J8\": random.sample(setB, len(setB)),\n",
        "        \"K1\": random.sample(setB, len(setB)),\n",
        "        \"K2\": random.sample(setB, len(setB)),\n",
        "        \"K3\": random.sample(setB, len(setB)),\n",
        "        \"K4\": random.sample(setB, len(setB)),\n",
        "        \"K5\": random.sample(setB, len(setB)),\n",
        "        \"K6\": random.sample(setB, len(setB)),\n",
        "        \"K7\": random.sample(setB, len(setB)),\n",
        "        \"K8\": random.sample(setB, len(setB)),\n",
        "        \"L1\": random.sample(setB, len(setB)),\n",
        "        \"L2\": random.sample(setB, len(setB)),\n",
        "        \"L3\": random.sample(setB, len(setB)),\n",
        "        \"L4\": random.sample(setB, len(setB)),\n",
        "        \"L5\": random.sample(setB, len(setB)),\n",
        "        \"L6\": random.sample(setB, len(setB)),\n",
        "        \"L7\": random.sample(setB, len(setB)),\n",
        "        \"L8\": random.sample(setB, len(setB)),\n",
        "        \"M1\": random.sample(setB, len(setB)),\n",
        "        \"M2\": random.sample(setB, len(setB)),\n",
        "        \"M3\": random.sample(setB, len(setB)),\n",
        "        \"M4\": random.sample(setB, len(setB)),\n",
        "        \"M5\": random.sample(setB, len(setB)),\n",
        "        \"M6\": random.sample(setB, len(setB)),\n",
        "        \"M7\": random.sample(setB, len(setB)),\n",
        "        \"M8\": random.sample(setB, len(setB)),\n",
        "        \"N1\": random.sample(setB, len(setB)),\n",
        "        \"N2\": random.sample(setB, len(setB)),\n",
        "        \"N3\": random.sample(setB, len(setB)),\n",
        "        \"N4\": random.sample(setB, len(setB)),\n",
        "        \"N5\": random.sample(setB, len(setB)),\n",
        "        \"N6\": random.sample(setB, len(setB)),\n",
        "        \"N7\": random.sample(setB, len(setB)),\n",
        "        \"N8\": random.sample(setB, len(setB)),\n",
        "        \"O1\": random.sample(setB, len(setB)),\n",
        "        \"O2\": random.sample(setB, len(setB)),\n",
        "        \"O3\": random.sample(setB, len(setB)),\n",
        "        \"O4\": random.sample(setB, len(setB)),\n",
        "        \"O5\": random.sample(setB, len(setB)),\n",
        "        \"O6\": random.sample(setB, len(setB)),\n",
        "        \"O7\": random.sample(setB, len(setB)),\n",
        "        \"O8\": random.sample(setB, len(setB)),\n",
        "        \"P1\": random.sample(setB, len(setB)),\n",
        "        \"P2\": random.sample(setB, len(setB)),\n",
        "        \"P3\": random.sample(setB, len(setB)),\n",
        "        \"P4\": random.sample(setB, len(setB)),\n",
        "        \"P5\": random.sample(setB, len(setB)),\n",
        "        \"P6\": random.sample(setB, len(setB)),\n",
        "        \"P7\": random.sample(setB, len(setB)),\n",
        "        \"P8\": random.sample(setB, len(setB)),\n",
        "      \n",
        "\n",
        "    }\n",
        "\n",
        "b_pref = {\n",
        "        \"a1\": random.sample(setA, len(setA)),\n",
        "        \"a2\": random.sample(setA, len(setA)),\n",
        "        \"a3\": random.sample(setA, len(setA)),\n",
        "        \"a4\": random.sample(setA, len(setA)),\n",
        "        \"a5\": random.sample(setA, len(setA)),\n",
        "        \"a6\": random.sample(setA, len(setA)),\n",
        "        \"a7\": random.sample(setA, len(setA)),\n",
        "        \"a8\": random.sample(setA, len(setA)),\n",
        "        \"b1\": random.sample(setA, len(setA)),\n",
        "        \"b2\": random.sample(setA, len(setA)),\n",
        "        \"b3\": random.sample(setA, len(setA)),\n",
        "        \"b4\": random.sample(setA, len(setA)),\n",
        "        \"b5\": random.sample(setA, len(setA)),\n",
        "        \"b6\": random.sample(setA, len(setA)),\n",
        "        \"b7\": random.sample(setA, len(setA)),\n",
        "        \"b8\": random.sample(setA, len(setA)),\n",
        "        \"c1\": random.sample(setA, len(setA)),\n",
        "        \"c2\": random.sample(setA, len(setA)),\n",
        "        \"c3\": random.sample(setA, len(setA)),\n",
        "        \"c4\": random.sample(setA, len(setA)),\n",
        "        \"c5\": random.sample(setA, len(setA)),\n",
        "        \"c6\": random.sample(setA, len(setA)),\n",
        "        \"c7\": random.sample(setA, len(setA)),\n",
        "        \"c8\": random.sample(setA, len(setA)),\n",
        "        \"d1\": random.sample(setA, len(setA)),\n",
        "        \"d2\": random.sample(setA, len(setA)),\n",
        "        \"d3\": random.sample(setA, len(setA)),\n",
        "        \"d4\": random.sample(setA, len(setA)),\n",
        "        \"d5\": random.sample(setA, len(setA)),\n",
        "        \"d6\": random.sample(setA, len(setA)),\n",
        "        \"d7\": random.sample(setA, len(setA)),\n",
        "        \"d8\": random.sample(setA, len(setA)),\n",
        "        \"e1\": random.sample(setA, len(setA)),\n",
        "        \"e2\": random.sample(setA, len(setA)),\n",
        "        \"e3\": random.sample(setA, len(setA)),\n",
        "        \"e4\": random.sample(setA, len(setA)),\n",
        "        \"e5\": random.sample(setA, len(setA)),\n",
        "        \"e6\": random.sample(setA, len(setA)),\n",
        "        \"e7\": random.sample(setA, len(setA)),\n",
        "        \"e8\": random.sample(setA, len(setA)),\n",
        "        \"f1\": random.sample(setA, len(setA)),\n",
        "        \"f2\": random.sample(setA, len(setA)),\n",
        "        \"f3\": random.sample(setA, len(setA)),\n",
        "        \"f4\": random.sample(setA, len(setA)),\n",
        "        \"f5\": random.sample(setA, len(setA)),\n",
        "        \"f6\": random.sample(setA, len(setA)),\n",
        "        \"f7\": random.sample(setA, len(setA)),\n",
        "        \"f8\": random.sample(setA, len(setA)),\n",
        "        \"g1\": random.sample(setA, len(setA)),\n",
        "        \"g2\": random.sample(setA, len(setA)),\n",
        "        \"g3\": random.sample(setA, len(setA)),\n",
        "        \"g4\": random.sample(setA, len(setA)),\n",
        "        \"g5\": random.sample(setA, len(setA)),\n",
        "        \"g6\": random.sample(setA, len(setA)),\n",
        "        \"g7\": random.sample(setA, len(setA)),\n",
        "        \"g8\": random.sample(setA, len(setA)),\n",
        "        \"h1\": random.sample(setA, len(setA)),\n",
        "        \"h2\": random.sample(setA, len(setA)),\n",
        "        \"h3\": random.sample(setA, len(setA)),\n",
        "        \"h4\": random.sample(setA, len(setA)),\n",
        "        \"h5\": random.sample(setA, len(setA)),\n",
        "        \"h6\": random.sample(setA, len(setA)),\n",
        "        \"h7\": random.sample(setA, len(setA)),\n",
        "        \"h8\": random.sample(setA, len(setA)),\n",
        "        \"i1\": random.sample(setA, len(setA)),\n",
        "        \"i2\": random.sample(setA, len(setA)),\n",
        "        \"i3\": random.sample(setA, len(setA)),\n",
        "        \"i4\": random.sample(setA, len(setA)),\n",
        "        \"i5\": random.sample(setA, len(setA)),\n",
        "        \"i6\": random.sample(setA, len(setA)),\n",
        "        \"i7\": random.sample(setA, len(setA)),\n",
        "        \"i8\": random.sample(setA, len(setA)),\n",
        "        \"j1\": random.sample(setA, len(setA)),\n",
        "        \"j2\": random.sample(setA, len(setA)),\n",
        "        \"j3\": random.sample(setA, len(setA)),\n",
        "        \"j4\": random.sample(setA, len(setA)),\n",
        "        \"j5\": random.sample(setA, len(setA)),\n",
        "        \"j6\": random.sample(setA, len(setA)),\n",
        "        \"j7\": random.sample(setA, len(setA)),\n",
        "        \"j8\": random.sample(setA, len(setA)),\n",
        "        \"k1\": random.sample(setA, len(setA)),\n",
        "        \"k2\": random.sample(setA, len(setA)),\n",
        "        \"k3\": random.sample(setA, len(setA)),\n",
        "        \"k4\": random.sample(setA, len(setA)),\n",
        "        \"k5\": random.sample(setA, len(setA)),\n",
        "        \"k6\": random.sample(setA, len(setA)),\n",
        "        \"k7\": random.sample(setA, len(setA)),\n",
        "        \"k8\": random.sample(setA, len(setA)),\n",
        "        \"l1\": random.sample(setA, len(setA)),\n",
        "        \"l2\": random.sample(setA, len(setA)),\n",
        "        \"l3\": random.sample(setA, len(setA)),\n",
        "        \"l4\": random.sample(setA, len(setA)),\n",
        "        \"l5\": random.sample(setA, len(setA)),\n",
        "        \"l6\": random.sample(setA, len(setA)),\n",
        "        \"l7\": random.sample(setA, len(setA)),\n",
        "        \"l8\": random.sample(setA, len(setA)),\n",
        "        \"m1\": random.sample(setA, len(setA)),\n",
        "        \"m2\": random.sample(setA, len(setA)),\n",
        "        \"m3\": random.sample(setA, len(setA)),\n",
        "        \"m4\": random.sample(setA, len(setA)),\n",
        "        \"m5\": random.sample(setA, len(setA)),\n",
        "        \"m6\": random.sample(setA, len(setA)),\n",
        "        \"m7\": random.sample(setA, len(setA)),\n",
        "        \"m8\": random.sample(setA, len(setA)),\n",
        "        \"n1\": random.sample(setA, len(setA)),\n",
        "        \"n2\": random.sample(setA, len(setA)),\n",
        "        \"n3\": random.sample(setA, len(setA)),\n",
        "        \"n4\": random.sample(setA, len(setA)),\n",
        "        \"n5\": random.sample(setA, len(setA)),\n",
        "        \"n6\": random.sample(setA, len(setA)),\n",
        "        \"n7\": random.sample(setA, len(setA)),\n",
        "        \"n8\": random.sample(setA, len(setA)),\n",
        "        \"o1\": random.sample(setA, len(setA)),\n",
        "        \"o2\": random.sample(setA, len(setA)),\n",
        "        \"o3\": random.sample(setA, len(setA)),\n",
        "        \"o4\": random.sample(setA, len(setA)),\n",
        "        \"o5\": random.sample(setA, len(setA)),\n",
        "        \"o6\": random.sample(setA, len(setA)),\n",
        "        \"o7\": random.sample(setA, len(setA)),\n",
        "        \"o8\": random.sample(setA, len(setA)),\n",
        "        \"p1\": random.sample(setA, len(setA)),\n",
        "        \"p2\": random.sample(setA, len(setA)),\n",
        "        \"p3\": random.sample(setA, len(setA)),\n",
        "        \"p4\": random.sample(setA, len(setA)),\n",
        "        \"p5\": random.sample(setA, len(setA)),\n",
        "        \"p6\": random.sample(setA, len(setA)),\n",
        "        \"p7\": random.sample(setA, len(setA)),\n",
        "        \"p8\": random.sample(setA, len(setA)),\n",
        "    \n",
        "}"
      ],
      "metadata": {
        "id": "YsM0WhaH8OQ0"
      },
      "execution_count": 82,
      "outputs": []
    },
    {
      "cell_type": "code",
      "source": [
        "st = datetime.datetime.now()\n",
        "stm = st.microsecond / 1000 \n",
        "gale_shapley(\n",
        "    A = setA,\n",
        "    B = setB,\n",
        "    A_pref = a_pref,\n",
        "    B_pref = b_pref\n",
        ")\n",
        "et = datetime.datetime.now()\n",
        "etm = et.microsecond / 1000\n",
        "\n",
        "execution_times.append(etm - stm)"
      ],
      "metadata": {
        "id": "VtGEvsch9DGK"
      },
      "execution_count": 83,
      "outputs": []
    },
    {
      "cell_type": "code",
      "source": [
        "import matplotlib.pyplot as plt\n",
        "import numpy as np\n",
        "\n",
        "set_sizes = [8, 16, 32, 64, 128]\n",
        "\n",
        "plt.xlabel(\"Set size\")\n",
        "plt.ylabel(\"Execution time in millis\")\n",
        "plt.title(\"Growth of execution time wrt set size\")\n",
        "plt.plot(set_sizes, execution_times)"
      ],
      "metadata": {
        "colab": {
          "base_uri": "https://localhost:8080/",
          "height": 312
        },
        "id": "zPf2wrGyAk0B",
        "outputId": "4d7f0df0-b11c-4687-bf0d-f0a29fb137a2"
      },
      "execution_count": 84,
      "outputs": [
        {
          "output_type": "execute_result",
          "data": {
            "text/plain": [
              "[<matplotlib.lines.Line2D at 0x7f27088f9190>]"
            ]
          },
          "metadata": {},
          "execution_count": 84
        },
        {
          "output_type": "display_data",
          "data": {
            "text/plain": [
              "<Figure size 432x288 with 1 Axes>"
            ],
            "image/png": "[encoded data removed]"
          },
          "metadata": {
            "needs_background": "light"
          }
        }
      ]
    }
  ]
}